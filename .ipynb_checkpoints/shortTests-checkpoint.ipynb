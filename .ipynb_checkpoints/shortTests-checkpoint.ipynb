{
 "cells": [
  {
   "cell_type": "code",
   "execution_count": 9,
   "metadata": {},
   "outputs": [],
   "source": [
    "import rebound, numpy as np, matplotlib as mpl\n",
    "#mpl.use('Agg') # found here:https://stackoverflow.com/questions/4931376/generating-matplotlib-graphs-without-a-running-x-server\n",
    "import matplotlib.pyplot as plt, time as tiempo, math, sys\n",
    "\n",
    "import subprocess \n",
    "def ding(): \n",
    "    \"\"\"\n",
    "    This is sometimes added to the end of code that takes a long time to run,\n",
    "    so that I know when it is completed.\n",
    "    It requires an mp3 file named \"ding.mp3\" in the same directory as this file.\n",
    "    \"\"\"\n",
    "    subprocess.call([\"afplay\",\"ding.mp3\"])\n",
    "\n",
    "sim = rebound.Simulation()\n",
    "tau = 2*np.pi"
   ]
  },
  {
   "cell_type": "code",
   "execution_count": 44,
   "metadata": {},
   "outputs": [],
   "source": [
    "def ttor(R0 = 5e-4): #two to one resonance\n",
    "    sim = rebound.Simulation()\n",
    "    #sim.units = ('yr', 'AU', 'Msun') #sets G=4pi^2 so AU, earth years, solar masses\n",
    "    #R0 = 5**(1/3)*0.01\n",
    "    sim.add(m=1) #creates a star of mass 1\n",
    "    sim.add(m=1e-3, a=1, r=R0)  #creates a planet with mass 0.001 at 1 AU\n",
    "    sim.add(m=1e-3, a=2**(2/3), f=np.pi, r=R0) \n",
    "    return sim\n",
    "\n",
    "def tttr(R0 = 5e-4): #two to three resonance\n",
    "    sim = rebound.Simulation()\n",
    "    #sim.units = ('yr', 'AU', 'Msun') #sets G=4pi^2 so AU, earth years, solar masses\n",
    "    #R0 = 0.01\n",
    "    sim.add(m=1) #creates a star of mass 1\n",
    "    sim.add(m=1e-3, a=2**(2/3), r=R0)  #creates a planet with mass 0.001 at 1 AU\n",
    "    sim.add(m=1e-3, a=3**(2/3), f=np.pi, r=R0) \n",
    "    return sim\n",
    "\n",
    "def nor(R0 = 5e-4): #no resonance (initially at least)\n",
    "    sim = rebound.Simulation()\n",
    "    #sim.units = ('yr', 'AU', 'Msun') #sets G=4pi^2 so AU, earth years, solar masses\n",
    "    sim.add(m=1) #creates a star of mass 1\n",
    "    #R0 = .02\n",
    "    sim.add(m=1e-3, a=1, r=R0)  #creates a planet with mass 0.001 at 1 AU\n",
    "    sim.add(m=1e-3, a=1.8, f=np.pi, r=R0) #use .1 mass to show the planets having a large effect on each other\n",
    "    return sim\n",
    "    \n",
    "def resonance_counter(data, base = 1): # data should be realtive x values or y values\n",
    "    innerplanetcount = 0\n",
    "    outerplanetcount = 0\n",
    "    for i, x in enumerate(np.delete(data,len(data)-1,0)):\n",
    "        if x[0] < 0 and data[i+1][0] > 0:\n",
    "            innerplanetcount += 1\n",
    "        if x[1] < 0 and data[i+1][1] > 0:\n",
    "            outerplanetcount += 1\n",
    "    R = innerplanetcount/outerplanetcount\n",
    "    print(R)\n",
    "    R = R*base\n",
    "    if R == int(R):\n",
    "        R = int(R)\n",
    "    print(\"The outer planet revolved\", outerplanetcount, \"times.\")\n",
    "    print(\"The inner planet revolved\", innerplanetcount, \"times.\")\n",
    "    print(\"They are in a {}:{} resonance.\".format(base, R))\n",
    "     \n",
    "def rand_powerlaw(slope, min_v, max_v): #some distribution functions\n",
    "    #https://rebound.readthedocs.io/en/latest/ipython/PrimordialEarth.html\n",
    "    y = np.random.uniform()\n",
    "    pow_max = pow(max_v, slope+1.)\n",
    "    pow_min = pow(min_v, slope+1.)\n",
    "    return pow((pow_max-pow_min)*y + pow_min, 1./(slope+1.))\n",
    "def rand_uniform(minimum, maximum):\n",
    "    return np.random.uniform()*(maximum-minimum)+minimum\n",
    "def rand_rayleigh(sigma):\n",
    "    return sigma*np.sqrt(-2*np.log(np.random.uniform()))\n",
    "\n",
    "def quickplot(sim): #this uses matplotlib to plot the orbit, instead of rebound\n",
    "    coords = np.zeros((2,sim.N))\n",
    "    for i in range(sim.N):\n",
    "        coords[0][i], coords[1][i] = sim.particles[i].x, sim.particles[i].y\n",
    "    fig, ax = plt.subplots()\n",
    "    ax.axis('equal')\n",
    "    ax.scatter(coords[0],coords[1],marker=\".\",linewidth=0)\n",
    "    for i in range(sim.N_active):\n",
    "        ax.scatter(sim.particles[i].x,sim.particles[i].y); # Planet\n",
    "        \n",
    "def my_merge(sim_pointer, collided_particles_index):\n",
    "    \n",
    "    #https://rebound.readthedocs.io/en/latest/ipython/User_Defined_Collision_Resolve.html\n",
    "    #or\n",
    "    #https://rebound.readthedocs.io/en/latest/ipython_examples/User_Defined_Collision_Resolve/\n",
    "    \n",
    "    sim = sim_pointer.contents # retreive the standard simulation object\n",
    "    ps = sim.particles # easy access to list of particles\n",
    "\n",
    "    i1 = collided_particles_index.p1   # Note that p1 < p2 is not guaranteed.\n",
    "    j1 = collided_particles_index.p2\n",
    "    \n",
    "    if ps[i1]==0 and ps[j1]==0:\n",
    "        return 0\n",
    "    else:\n",
    "        if ps[i1].m==0: #assigns k as the planet with mass and l as the particle w/o mass\n",
    "            k=j1\n",
    "            l=i1\n",
    "            destroyi1=True\n",
    "        if ps[j1].m==0: #assigns k as the planet with mass and l as the particle w/o mass\n",
    "            k=i1\n",
    "            l=j1\n",
    "            destroyi1=False\n",
    "            \n",
    "        '''fig, ax = rebound.OrbitPlot(sim, xlim = (-1.3, 1.3), ylim = (-1.3, 1.3), color=['blue', 'green'])\n",
    "        ax.set_title(\"Merging particle {} into {}\".format(j, i))\n",
    "        ax.text(ps[k].x, ps[k].y, \"1\");\n",
    "        ax.text(ps[l].x, ps[l].y, \"2\")'''\n",
    "        # So we plot the scenario exactly at the timestep that the collision function is triggered\n",
    "        \n",
    "        #print(\"merging particle\", k,'into particle', l) #use this to know when collisions occur\n",
    "        \n",
    "        #particle_mass = Mtot_disk/N_pl\n",
    "        particle_mass=1e-5\n",
    "        particle_radius = 1e-5\n",
    "        # Merging Logic\n",
    "        total_mass = ps[k].m + particle_mass\n",
    "        #merged_planet = (ps[i] * ps[i].m + ps[j] * ps[j].m)/total_mass # conservation of momentum\n",
    "\n",
    "        # merged radius assuming a uniform density\n",
    "        merged_radius = (ps[k].r**3 + particle_radius**3)**(1/3)\n",
    "\n",
    "        #ps[k] = merged_planet   # update p1's state vector (mass and radius will need corrections)\n",
    "        ps[k].m = total_mass    # update to total mass\n",
    "        ps[k].r = merged_radius # update to joined radius\n",
    "        \n",
    "        #sim.ri_whfast.recalculate_coordinates_this_timestep = 1 #after adding mass\n",
    "        #to a particle, we must recalculate Jacobi coordinates in order to recieve\n",
    "        #physical values. Note that this code should be commented out if safemode is on.\n",
    "        \n",
    "        if destroyi1:\n",
    "            return 1 #destroys p1, which is the particle w/o mass\n",
    "        else:\n",
    "            return 2 #destroys p2, which is the particle w/o mass\n",
    "     \n",
    "    \n",
    "def masslist_txt(masslist,filepath,sim = None, write_type = 'a'):\n",
    "    \"\"\"\n",
    "    Saves the masslists into a formatted txt file.\n",
    "    \"\"\"\n",
    "    \n",
    "    def avg(lst):\n",
    "        sum = 0\n",
    "        for i in lst:\n",
    "            sum += i\n",
    "        return sum / len(lst)\n",
    "\n",
    "    masslistcopy = masslist.copy() # Don't want to edit the original data\n",
    "    percentlist = list()\n",
    "    message = ''\n",
    "    message+=\"Inner planet mass\\tOuter planet mass\\tPercent Difference\\tSeed\\n\"\n",
    "    for data in masslistcopy[1:]:\n",
    "        data = data.copy() #comment out this line to not have the original list change\n",
    "        percentdif = abs((data[0]-data[1])/data[0])*100\n",
    "        roundedpercentdif = round(percentdif,2)\n",
    "        percentlist.append(percentdif)\n",
    "        data.insert(2,percentdif)\n",
    "        for j in data:\n",
    "            message += str(j)\n",
    "            message +='\\t'\n",
    "        message +='\\n'   \n",
    "    message+= \"\\nAverage percent difference= {}.\\n\\n\".format(avg(percentlist))\n",
    "    with open(filepath,write_type) as file:\n",
    "        file.write(sim+'\\n')\n",
    "        file.write(message)\n",
    "        \n",
    "def masslist_txt_append(masslist, filepath,sim = None,write_type = 'a', **kwargs):\n",
    "    \"\"\"\n",
    "    Saves the masslists into a formatted txt file. This is similar to masslist_txt except \n",
    "    it lends itself better to appending. It is meant for simulations ran entirely separately.\n",
    "    \"\"\"\n",
    "    \n",
    "    def avg(listt):\n",
    "        sum = 0\n",
    "        for i in listt:\n",
    "            sum += i\n",
    "        return sum / len(listt)\n",
    "    \n",
    "    masslistcopy = masslist.copy() # Don't want to edit the original data\n",
    "    message = ''\n",
    "    if kwargs.get('first'):\n",
    "        write_type = \"w\"\n",
    "        message += sim+'\\n'\n",
    "        message+=\"Inner planet mass\\tOuter planet mass\\tPercent Difference\\tSeed\\n\"\n",
    "    for data in masslistcopy[1:]:\n",
    "        #data = data.copy() #comment out this line to not have the original list change\n",
    "        percentdif = abs((data[0]-data[1])/data[0])*100\n",
    "        roundedpercentdif = round(percentdif,2)\n",
    "        data.insert(2,percentdif)\n",
    "        for j in data:\n",
    "            message += str(j)\n",
    "            message +='\\t'\n",
    "        message +='\\n'\n",
    "    with open(filepath,write_type) as file:\n",
    "        file.write(message)\n",
    "    if kwargs.get('last'):\n",
    "        with open(filepath, \"a\") as file:\n",
    "            file.write(\"\\nAverage percent difference: {}\"\n",
    "                       .format(averagePercent(filepath)))\n",
    "            file.write(\"\\n\"+\"#\"*40)\n",
    "        \n",
    "def masslist_read(filePath):\n",
    "    \"\"\"\n",
    "    Inverse of masslist_txt()\n",
    "    \"\"\"\n",
    "    with open(filePath,'r') as datafile:\n",
    "        contents = datafile.read()\n",
    "    contents = contents.split()\n",
    "    finalList = []\n",
    "    for index,value in enumerate(contents):\n",
    "        try:\n",
    "            value = float(value)\n",
    "            finalList.append(value)\n",
    "        except:\n",
    "            pass\n",
    "    return finalList\n",
    "\n",
    "def avg(listt, **kwargs):\n",
    "    sum = 0\n",
    "    if kwargs.get('positive'):\n",
    "        for i in listt:\n",
    "            if i >= 0:\n",
    "                sum += i\n",
    "        return sum / len(listt)\n",
    "    for i in listt:\n",
    "        sum += i\n",
    "    return sum / len(listt)\n",
    "\n",
    "def averagePercent(filePath):\n",
    "    dataList = masslist_read(filePath)\n",
    "    percentList = []\n",
    "    for i in range(2,len(dataList),4):\n",
    "        percentList.append(dataList[i])\n",
    "    return avg(percentList)\n",
    "\n",
    "def saveFigs(addOn = \"\", seed = 0, **kwargs):\n",
    "    \"\"\"\n",
    "    This saves several types of graphs into a folder corresponsing to the seed.\n",
    "    Optional ability to add on to the name of a file easily.\n",
    "    NOTE: Depending on the stepnumber, some of these graphs may contain useless data,\n",
    "    because for some data types the stepnumber needs to be very high.\n",
    "    \"\"\"\n",
    "    if kwargs.get(\"test\"):\n",
    "        seed = \"Tests\"\n",
    "    \n",
    "    plt.clf() # clears any graphs\n",
    "    quickplot(sim)\n",
    "    plt.savefig(\"Figures/\"+str(seed)+\"/quickplot\"+addOn+\".pdf\")\n",
    "    \n",
    "    plt.clf()\n",
    "    rebound.OrbitPlot(sim,slices=0.3,color=True)\n",
    "    plt.savefig(\"Figures/\"+str(seed)+\"/reboundPlot\"+addOn+\".pdf\")\n",
    "    \n",
    "    plt.clf()\n",
    "    rebound.OrbitPlot(sim, slices = .3, color = True, lw = 1, plotparticles = [1,2])\n",
    "    plt.savefig(\"Figures/\"+str(seed)+\"/reboundPlotOnlyPlanets\"+addOn+\".pdf\")\n",
    "    \n",
    "    plt.clf()\n",
    "    plt.plot(times, eccs)\n",
    "    plt.title('Eccentricity Over Time')\n",
    "    plt.xlabel('Time (2pi*yr)')\n",
    "    plt.ylabel('Eccentricity')\n",
    "    plt.savefig(\"Figures/\"+str(seed)+\"/Eccentricity\"+addOn+\".pdf\")\n",
    "    \n",
    "    plt.clf()\n",
    "    plt.plot(times, relative_x_value)\n",
    "    plt.title('X Value From Star Over Time')\n",
    "    plt.xlabel('Time (2pi*yr)')\n",
    "    plt.ylabel('X Value (AU)')\n",
    "    plt.savefig(\"Figures/\"+str(seed)+\"/relativeXValue\"+addOn+\".pdf\")\n",
    "    \n",
    "    plt.clf()\n",
    "    plt.plot(times, masses)\n",
    "    plt.title('Mass of Planets Over Time')\n",
    "    plt.xlabel('Time (2pi*yr)')\n",
    "    plt.ylabel('Mass (Solar Masses)')\n",
    "    plt.savefig(\"Figures/\"+str(seed)+\"/masses\"+addOn+\".pdf\")\n",
    "    \n",
    "    plt.clf()\n",
    "    fig, axs = plt.subplots(1, 2)\n",
    "    fig.suptitle('Planet Positions')\n",
    "    axs[0].plot(list(position1[:,0]), list(position1[:,1]),'o')\n",
    "    axs[1].plot(list(position2[:,0]), list(position2[:,1]),'o')\n",
    "    axs[0].set_aspect('equal')\n",
    "    axs[1].set_aspect('equal')\n",
    "    plt.savefig(\"Figures/\"+str(seed)+\"/scatterPlotPositions\"+addOn+\".pdf\")\n",
    "    \n",
    "    plt.clf()\n",
    "    plt.plot(times, interplanetdistance)\n",
    "    plt.title('Interplanetary Distance Over Time')\n",
    "    plt.xlabel('Time (2pi*yr)')\n",
    "    plt.ylabel('Distance (AU)')\n",
    "    plt.savefig(\"Figures/\"+str(seed)+\"/interplanetaryDistance\"+addOn+\".pdf\")\n",
    "    \n",
    "    plt.clf()\n",
    "    plt.plot(times, particleNumber)\n",
    "    plt.title('sim.N over time')\n",
    "    plt.xlabel('Time (2pi*yr)')\n",
    "    plt.ylabel('sim.N (AU)')\n",
    "    plt.savefig(\"Figures/\"+str(seed)+\"/particleNumber\"+addOn+\".pdf\")\n",
    "    \n",
    "    plt.clf()\n",
    "    plt.plot(times, asteroidEccs[:,[i for i in range(0,simNi-2-1,50)]], linewidth=1)\n",
    "    plt.title('Asteroid Eccentricity Axis Over Time')\n",
    "    plt.xlabel('Time (2pi*yr)')\n",
    "    plt.ylabel('Eccs')\n",
    "    plt.savefig(\"Figures/\"+str(seed)+\"/RoidEccs\"+addOn+\".pdf\")\n",
    "    \n",
    "    plt.clf()\n",
    "    plt.plot(times, [avg(EccsList, positive = True) for EccsList in asteroidEccs],linewidth=1)\n",
    "    plt.title('Asteroid Eccentricity AVERAGE Over Time')\n",
    "    plt.xlabel('Time (2pi*yr)')\n",
    "    plt.ylabel('Eccentricity')\n",
    "    plt.savefig(\"Figures/\"+str(seed)+\"/RoidEccsAverage\"+addOn+\".pdf\")\n",
    "    \n",
    "    plt.clf()\n",
    "    num_bins = 30\n",
    "    plt.hist([data for data in asteroidEccs[-1] if data >= 0], num_bins)\n",
    "    plt.savefig(\"Figures/\"+str(seed)+\"/RoidEccsHistoEnd\"+addOn+\".pdf\")\n",
    "    \n",
    "    plt.clf()\n",
    "    plt.plot(times, asteroidAU[:,[i for i in range(0,simNi-2-1,50)]], linewidth=1)\n",
    "    # Does not plot every asteroid\n",
    "    plt.title('Asteroid Semi Major Axis Over Time')\n",
    "    plt.xlabel('Time (2pi*yr)')\n",
    "    plt.ylabel('Semi Major Axis (AU)')\n",
    "    plt.ylim(bottom=-.3, top = 5) # Only want to graph part of escaping asteroids\n",
    "    plt.savefig(\"Figures/\"+str(seed)+\"/RoidSMAxis\"+addOn+\".pdf\")\n",
    "    \n",
    "    plt.clf()\n",
    "    plt.plot(times, [avg(asteroidAUList) for asteroidAUList in asteroidAU],linewidth=1)\n",
    "    plt.title('Asteroid Semi Major Axis AVERAGE Over Time')\n",
    "    plt.xlabel('Time (2pi*yr)')\n",
    "    plt.ylabel('Semi Major Axis (AU)')\n",
    "    plt.savefig(\"Figures/\"+str(seed)+\"/RoidSMAxisAverage\"+addOn+\".pdf\")\n",
    "    \n",
    "    plt.clf()\n",
    "    num_bins =30\n",
    "    plt.hist([data for data in asteroidAU[0] if data > 0 and data < 5], num_bins)\n",
    "    plt.savefig(\"Figures/\"+str(seed)+\"/RoidSMAxisHistoStart\"+addOn+\".pdf\")\n",
    "    \n",
    "    plt.clf()\n",
    "    plt.hist([data for data in asteroidAU[-1] if data > 0 and data < 5], num_bins)\n",
    "    plt.savefig(\"Figures/\"+str(seed)+\"/RoidSMAxisHistoEnd\"+addOn+\".pdf\")"
   ]
  },
  {
   "cell_type": "code",
   "execution_count": 36,
   "metadata": {},
   "outputs": [],
   "source": [
    "def generatettor(simulation = ttor,seed = None, asteroidnumber = 1000):  \n",
    "    sim = simulation()\n",
    "    sim.N_active = sim.N\n",
    "\n",
    "    sim.integrator = \"ias15\"\n",
    "#     sim.integrator = \"mercurius\"\n",
    "    #sim.ri_mercurius.hillfac = 3\n",
    "    #sim.ri_ias15.min_dt = 0 # stes the minimum dt, default is 0. This should be specified on mercurius as well.\n",
    "    #sim.integrator = \"whfast\"\n",
    "    #sim.ri_whfast.corrector = 0 #zero order corrector for better speed\n",
    "    #sim.ri_whfast.safe_mode = 0 #turns off safemode, *substantial* speed boost\n",
    "    #sim.dt = 0.001*2*np.pi #mutiple by 2pi if in units such that G=1\n",
    "    sim.testparticle_type = 0\n",
    "    #sim.ri_ias15.min_dt = 1e-6 # ensure that close encounters do not stall the integration\n",
    "\n",
    "    #collision and boundary options\n",
    "    sim.collision = \"direct\"\n",
    "    sim.collision_resolve = my_merge # a function that I made\n",
    "    sim.collision_resolve_keep_sorted = 1\n",
    "    sim.boundary = \"open\"\n",
    "    boxsize = 100\n",
    "    sim.configure_box(boxsize)\n",
    "    sim.track_energy_offset = 1\n",
    "\n",
    "    N_pl = asteroidnumber                # Number of planetesimals\n",
    "    Mtot_disk = 10*sim.particles[1].m    # Total mass of planetesimal disk\n",
    "    m_pl = 0 #Mtot_disk / float(N_pl)    # Mass of each planetesimal\n",
    "    r_pl = 2e-9 \n",
    "\n",
    "    #seed = 0\n",
    "    #46 is my most frequently used seed\n",
    "    np.random.seed(seed) # by setting a seed we will reproduce the same simulation every time\n",
    "    while sim.N < (N_pl + sim.N_active):\n",
    "        #a = rand_powerlaw(0, 0.1, 3) \n",
    "        a = rand_uniform(.6,2.9)\n",
    "        #e = rand_rayleigh(0.01) by default is 0\n",
    "        e=0\n",
    "        #inc = rand_rayleigh(0.005)\n",
    "        inc=0\n",
    "        f = rand_uniform(-np.pi,np.pi)\n",
    "        p = rebound.Particle(simulation=sim,primary=sim.particles[0], r=r_pl, a=a, e=e, inc=inc, Omega=0, omega=0, f=f)\n",
    "        # Only add planetesimal if it's far away from the planet\n",
    "        d1 = np.linalg.norm(np.array(p.xyz)-np.array(sim.particles[1].xyz))\n",
    "        d2 = np.linalg.norm(np.array(p.xyz)-np.array(sim.particles[2].xyz))\n",
    "        d = min(d1,d2)\n",
    "        if d>5e-4:\n",
    "            sim.add(p)\n",
    "    \n",
    "    # Hash Creation\n",
    "    ps = sim.particles\n",
    "    ps[0].hash = \"star\"\n",
    "    ps[1].hash = \"innerPlanet\"\n",
    "    ps[2].hash = \"outerPlanet\"\n",
    "    for i in range(3,sim.N): # this sets their hash to their starting particle number\n",
    "        ps[i].hash = str(i)\n",
    "    #\n",
    "\n",
    "    sim.collision_resolve = my_merge\n",
    "\n",
    "    #sim.move_to_com()\n",
    "    E0 = sim.calculate_energy()\n",
    "    #quickplot(sim)\n",
    "    return sim\n",
    "    \n",
    "def quickcollect2(n, Ti, Tf, stepnumber, **kwargs): #collects orbital data on the first two bodies in a system\n",
    "    initialtime = tiempo.monotonic()\n",
    "#     n=2 #number of planets\n",
    "#     T=80*2*np.pi #years of simulation\n",
    "    # Planet variables\n",
    "    global times, dist, relative_x_value,relative_y_value, eccs, position1, position2, \\\n",
    "    interplanetdistance, masses, particleNumber\n",
    "    times = np.linspace(Ti,Tf,stepnumber)\n",
    "    #diftimes = list()\n",
    "    dist = np.zeros((len(times),n)) \n",
    "    relative_x_value = np.zeros((len(times),n))\n",
    "    relative_y_value = np.zeros((len(times),n))\n",
    "    eccs = np.zeros((len(times),n))\n",
    "    position1 = np.zeros((len(times),2))\n",
    "    position2 = np.zeros((len(times),2))\n",
    "    interplanetdistance = np.zeros((len(times),1))\n",
    "    particleNumber = np.zeros((len(times),1))\n",
    "    masses = np.zeros((len(times),n))\n",
    "    ps = sim.particles\n",
    "    # Asteroid variables:\n",
    "    global asteroidAU, asteroidEccs, simNi\n",
    "    simNi = sim.N\n",
    "    asteroidAU = np.zeros((len(times),simNi-n-1)) # n is the number of planets, 1 is the number of stars\n",
    "    asteroidEccs = np.negative(np.ones((len(times),simNi-n-1)))\n",
    "    for i, t in enumerate(times):\n",
    "        sim.integrate(t)\n",
    "        print(\"| {} time = {} years | {} particles | {} step number |\\n\\\n",
    "| {} second | {} minutes.\\n\"\\\n",
    "        .format(t,t/tau,sim.N,i,round((tiempo.monotonic()-initialtime),1)\\\n",
    "        ,round((tiempo.monotonic()-initialtime)/60,1)))\n",
    "        #sim.ri_whfast.recalculate_coordinates_this_timestep = 1\n",
    "        #sim.integrator_synchronize()\n",
    "        #diftimes.append(sim.t+dT)\n",
    "        #if i== int(stepnumber/2):\n",
    "            #print(\"1/2 done at {} seconds.\".format(int(tiempo.time() - initialtime)))\n",
    "        ps = sim.particles\n",
    "        interplanetdistance[i] = np.linalg.norm(np.array(ps[2].xyz)-np.array(ps[1].xyz))\n",
    "        particleNumber[i] = sim.N\n",
    "        position1[i] = [ps[1].x,ps[1].y]\n",
    "        position2[i] = [ps[2].x,ps[2].y]\n",
    "        for planet in range(n):\n",
    "            planetdif = planet+1\n",
    "            dist[i,planet] = np.linalg.norm(np.array(ps[planetdif].xyz)-np.array(ps[0].xyz))\n",
    "            relative_x_value[i,planet] = ps[planetdif].x - ps[0].x\n",
    "            relative_y_value[i,planet] = ps[planetdif].y - ps[0].y\n",
    "            eccs[i,planet] = ps[planetdif].e\n",
    "            masses[i,planet] = ps[planetdif].m\n",
    "        position1[i] = [relative_x_value[i,0],relative_y_value[i,0]]\n",
    "        position2[i] = [relative_x_value[i,1],relative_y_value[i,1]]\n",
    "        #### Data collection from asteroids:\n",
    "        if kwargs.get(\"asteroidCollect\"):\n",
    "            for roidNumber in range(3,simNi):\n",
    "                #print(\"index:{}, roidNumber: {}\".format(index,roidNumber))\n",
    "                index = roidNumber - n -1\n",
    "                try:                    \n",
    "                    asteroidAU[i,index] = ps[str(roidNumber)].a\n",
    "                    asteroidEccs[i,index] = ps[str(roidNumber)].e\n",
    "                except:\n",
    "                    pass\n",
    "        ####\n",
    "    finaltime = tiempo.monotonic()\n",
    "#     print('done')\n",
    "    #print(\"{} done at {} seconds!\".format((a+1)/10,int(finaltime-initialtime)))\n",
    "    print(\"Done at {} seconds!\".format((int(finaltime-initialtime))))\n",
    "#     print(\"The inner planet ended with a mass of {}.\".format(ps[1].m))\n",
    "#     print(\"The outer planet ended with a mass of {}.\".format(ps[2].m))\n",
    "#     print(\"There are {} particles remaining.\".format(sim.N))\n",
    "    quickplot(sim)\n",
    "    #ding()\n",
    "    \n",
    "def remove(AU, sim = sim):\n",
    "    for i in reversed(range(sim.N)):\n",
    "        ps = sim.particles\n",
    "        if np.linalg.norm(np.array(ps[i].xyz)-np.array(ps[0].xyz)) > AU:\n",
    "            sim.remove(i)"
   ]
  },
  {
   "cell_type": "code",
   "execution_count": 37,
   "metadata": {
    "scrolled": true
   },
   "outputs": [
    {
     "name": "stdout",
     "output_type": "stream",
     "text": [
      "Steps: 100\n",
      "Beginning seed 0.\n",
      "| 0.0 time = 0.0 years | 103 particles | 0 step number |\n",
      "| 0.0 second | 0.0 minutes.\n",
      "\n",
      "| 6.346651825433926 time = 1.0101010101010102 years | 103 particles | 1 step number |\n",
      "| 0.1 second | 0.0 minutes.\n",
      "\n",
      "| 12.693303650867852 time = 2.0202020202020203 years | 103 particles | 2 step number |\n",
      "| 0.2 second | 0.0 minutes.\n",
      "\n",
      "| 19.039955476301778 time = 3.0303030303030303 years | 103 particles | 3 step number |\n",
      "| 0.3 second | 0.0 minutes.\n",
      "\n",
      "| 25.386607301735705 time = 4.040404040404041 years | 103 particles | 4 step number |\n",
      "| 0.4 second | 0.0 minutes.\n",
      "\n",
      "| 31.73325912716963 time = 5.050505050505051 years | 102 particles | 5 step number |\n",
      "| 0.6 second | 0.0 minutes.\n",
      "\n",
      "| 38.079910952603555 time = 6.0606060606060606 years | 102 particles | 6 step number |\n",
      "| 0.6 second | 0.0 minutes.\n",
      "\n",
      "| 44.426562778037486 time = 7.070707070707072 years | 102 particles | 7 step number |\n",
      "| 0.7 second | 0.0 minutes.\n",
      "\n",
      "| 50.77321460347141 time = 8.080808080808081 years | 102 particles | 8 step number |\n",
      "| 0.9 second | 0.0 minutes.\n",
      "\n",
      "| 57.11986642890533 time = 9.090909090909092 years | 102 particles | 9 step number |\n",
      "| 1.0 second | 0.0 minutes.\n",
      "\n",
      "| 63.46651825433926 time = 10.101010101010102 years | 102 particles | 10 step number |\n",
      "| 1.1 second | 0.0 minutes.\n",
      "\n",
      "| 69.81317007977319 time = 11.111111111111112 years | 101 particles | 11 step number |\n",
      "| 1.2 second | 0.0 minutes.\n",
      "\n",
      "| 76.15982190520711 time = 12.121212121212121 years | 101 particles | 12 step number |\n",
      "| 1.3 second | 0.0 minutes.\n",
      "\n",
      "| 82.50647373064103 time = 13.131313131313131 years | 101 particles | 13 step number |\n",
      "| 1.4 second | 0.0 minutes.\n",
      "\n",
      "| 88.85312555607497 time = 14.141414141414144 years | 101 particles | 14 step number |\n",
      "| 1.5 second | 0.0 minutes.\n",
      "\n",
      "| 95.1997773815089 time = 15.151515151515154 years | 100 particles | 15 step number |\n",
      "| 1.6 second | 0.0 minutes.\n",
      "\n",
      "| 101.54642920694282 time = 16.161616161616163 years | 100 particles | 16 step number |\n",
      "| 1.7 second | 0.0 minutes.\n",
      "\n",
      "| 107.89308103237674 time = 17.171717171717173 years | 100 particles | 17 step number |\n",
      "| 1.8 second | 0.0 minutes.\n",
      "\n",
      "| 114.23973285781067 time = 18.181818181818183 years | 100 particles | 18 step number |\n",
      "| 1.9 second | 0.0 minutes.\n",
      "\n",
      "| 120.5863846832446 time = 19.191919191919194 years | 99 particles | 19 step number |\n",
      "| 2.1 second | 0.0 minutes.\n",
      "\n",
      "| 126.93303650867853 time = 20.202020202020204 years | 99 particles | 20 step number |\n",
      "| 2.2 second | 0.0 minutes.\n",
      "\n",
      "| 133.27968833411245 time = 21.212121212121215 years | 98 particles | 21 step number |\n",
      "| 2.3 second | 0.0 minutes.\n",
      "\n",
      "| 139.62634015954637 time = 22.222222222222225 years | 98 particles | 22 step number |\n",
      "| 2.4 second | 0.0 minutes.\n",
      "\n",
      "| 145.9729919849803 time = 23.232323232323235 years | 98 particles | 23 step number |\n",
      "| 2.5 second | 0.0 minutes.\n",
      "\n",
      "| 152.31964381041422 time = 24.242424242424242 years | 98 particles | 24 step number |\n",
      "| 2.5 second | 0.0 minutes.\n",
      "\n",
      "| 158.66629563584814 time = 25.252525252525253 years | 98 particles | 25 step number |\n",
      "| 2.6 second | 0.0 minutes.\n",
      "\n",
      "| 165.01294746128207 time = 26.262626262626263 years | 98 particles | 26 step number |\n",
      "| 2.7 second | 0.0 minutes.\n",
      "\n",
      "| 171.35959928671602 time = 27.272727272727277 years | 98 particles | 27 step number |\n",
      "| 2.7 second | 0.0 minutes.\n",
      "\n",
      "| 177.70625111214994 time = 28.282828282828287 years | 98 particles | 28 step number |\n",
      "| 2.8 second | 0.0 minutes.\n",
      "\n",
      "| 184.05290293758387 time = 29.292929292929298 years | 98 particles | 29 step number |\n",
      "| 2.9 second | 0.0 minutes.\n",
      "\n",
      "| 190.3995547630178 time = 30.303030303030308 years | 98 particles | 30 step number |\n",
      "| 3.0 second | 0.0 minutes.\n",
      "\n",
      "| 196.7462065884517 time = 31.31313131313132 years | 98 particles | 31 step number |\n",
      "| 3.1 second | 0.1 minutes.\n",
      "\n",
      "| 203.09285841388564 time = 32.323232323232325 years | 98 particles | 32 step number |\n",
      "| 3.2 second | 0.1 minutes.\n",
      "\n",
      "| 209.43951023931956 time = 33.333333333333336 years | 98 particles | 33 step number |\n",
      "| 3.3 second | 0.1 minutes.\n",
      "\n",
      "| 215.78616206475348 time = 34.343434343434346 years | 98 particles | 34 step number |\n",
      "| 3.3 second | 0.1 minutes.\n",
      "\n",
      "| 222.1328138901874 time = 35.35353535353536 years | 98 particles | 35 step number |\n",
      "| 3.4 second | 0.1 minutes.\n",
      "\n",
      "| 228.47946571562133 time = 36.36363636363637 years | 97 particles | 36 step number |\n",
      "| 3.5 second | 0.1 minutes.\n",
      "\n",
      "| 234.82611754105525 time = 37.37373737373738 years | 97 particles | 37 step number |\n",
      "| 3.6 second | 0.1 minutes.\n",
      "\n",
      "| 241.1727693664892 time = 38.38383838383839 years | 97 particles | 38 step number |\n",
      "| 3.6 second | 0.1 minutes.\n",
      "\n",
      "| 247.51942119192313 time = 39.3939393939394 years | 97 particles | 39 step number |\n",
      "| 3.7 second | 0.1 minutes.\n",
      "\n",
      "| 253.86607301735705 time = 40.40404040404041 years | 97 particles | 40 step number |\n",
      "| 3.7 second | 0.1 minutes.\n",
      "\n",
      "| 260.212724842791 time = 41.41414141414142 years | 97 particles | 41 step number |\n",
      "| 3.8 second | 0.1 minutes.\n",
      "\n",
      "| 266.5593766682249 time = 42.42424242424243 years | 97 particles | 42 step number |\n",
      "| 3.9 second | 0.1 minutes.\n",
      "\n",
      "| 272.9060284936588 time = 43.43434343434344 years | 97 particles | 43 step number |\n",
      "| 3.9 second | 0.1 minutes.\n",
      "\n",
      "| 279.25268031909275 time = 44.44444444444445 years | 97 particles | 44 step number |\n",
      "| 4.0 second | 0.1 minutes.\n",
      "\n",
      "| 285.59933214452667 time = 45.45454545454546 years | 97 particles | 45 step number |\n",
      "| 4.0 second | 0.1 minutes.\n",
      "\n",
      "| 291.9459839699606 time = 46.46464646464647 years | 97 particles | 46 step number |\n",
      "| 4.1 second | 0.1 minutes.\n",
      "\n",
      "| 298.2926357953945 time = 47.47474747474748 years | 97 particles | 47 step number |\n",
      "| 4.2 second | 0.1 minutes.\n",
      "\n",
      "| 304.63928762082844 time = 48.484848484848484 years | 97 particles | 48 step number |\n",
      "| 4.3 second | 0.1 minutes.\n",
      "\n",
      "| 310.98593944626236 time = 49.494949494949495 years | 97 particles | 49 step number |\n",
      "| 4.4 second | 0.1 minutes.\n",
      "\n",
      "| 317.3325912716963 time = 50.505050505050505 years | 97 particles | 50 step number |\n",
      "| 4.4 second | 0.1 minutes.\n",
      "\n",
      "| 323.6792430971302 time = 51.515151515151516 years | 97 particles | 51 step number |\n",
      "| 4.4 second | 0.1 minutes.\n",
      "\n",
      "| 330.02589492256413 time = 52.525252525252526 years | 97 particles | 52 step number |\n",
      "| 4.6 second | 0.1 minutes.\n",
      "\n",
      "| 336.37254674799806 time = 53.535353535353536 years | 97 particles | 53 step number |\n",
      "| 4.7 second | 0.1 minutes.\n",
      "\n",
      "| 342.71919857343204 time = 54.545454545454554 years | 97 particles | 54 step number |\n",
      "| 4.7 second | 0.1 minutes.\n",
      "\n",
      "| 349.06585039886596 time = 55.555555555555564 years | 97 particles | 55 step number |\n",
      "| 4.8 second | 0.1 minutes.\n",
      "\n",
      "| 355.4125022242999 time = 56.565656565656575 years | 97 particles | 56 step number |\n",
      "| 4.9 second | 0.1 minutes.\n",
      "\n",
      "| 361.7591540497338 time = 57.575757575757585 years | 97 particles | 57 step number |\n",
      "| 5.0 second | 0.1 minutes.\n",
      "\n",
      "| 368.10580587516773 time = 58.585858585858595 years | 97 particles | 58 step number |\n",
      "| 5.0 second | 0.1 minutes.\n",
      "\n",
      "| 374.45245770060166 time = 59.595959595959606 years | 97 particles | 59 step number |\n",
      "| 5.2 second | 0.1 minutes.\n",
      "\n",
      "| 380.7991095260356 time = 60.606060606060616 years | 97 particles | 60 step number |\n",
      "| 5.3 second | 0.1 minutes.\n",
      "\n",
      "| 387.1457613514695 time = 61.61616161616163 years | 97 particles | 61 step number |\n",
      "| 5.3 second | 0.1 minutes.\n",
      "\n",
      "| 393.4924131769034 time = 62.62626262626264 years | 97 particles | 62 step number |\n",
      "| 5.4 second | 0.1 minutes.\n",
      "\n",
      "| 399.83906500233735 time = 63.63636363636364 years | 97 particles | 63 step number |\n",
      "| 5.5 second | 0.1 minutes.\n",
      "\n",
      "| 406.1857168277713 time = 64.64646464646465 years | 97 particles | 64 step number |\n",
      "| 5.5 second | 0.1 minutes.\n",
      "\n",
      "| 412.5323686532052 time = 65.65656565656566 years | 97 particles | 65 step number |\n",
      "| 5.6 second | 0.1 minutes.\n",
      "\n",
      "| 418.8790204786391 time = 66.66666666666667 years | 97 particles | 66 step number |\n",
      "| 5.6 second | 0.1 minutes.\n",
      "\n",
      "| 425.22567230407304 time = 67.67676767676768 years | 97 particles | 67 step number |\n",
      "| 5.7 second | 0.1 minutes.\n",
      "\n",
      "| 431.57232412950697 time = 68.68686868686869 years | 97 particles | 68 step number |\n",
      "| 5.7 second | 0.1 minutes.\n",
      "\n",
      "| 437.9189759549409 time = 69.6969696969697 years | 97 particles | 69 step number |\n",
      "| 5.8 second | 0.1 minutes.\n",
      "\n",
      "| 444.2656277803748 time = 70.70707070707071 years | 97 particles | 70 step number |\n",
      "| 5.9 second | 0.1 minutes.\n",
      "\n",
      "| 450.61227960580874 time = 71.71717171717172 years | 97 particles | 71 step number |\n",
      "| 6.0 second | 0.1 minutes.\n",
      "\n",
      "| 456.95893143124266 time = 72.72727272727273 years | 97 particles | 72 step number |\n",
      "| 6.0 second | 0.1 minutes.\n",
      "\n"
     ]
    },
    {
     "name": "stdout",
     "output_type": "stream",
     "text": [
      "| 463.3055832566766 time = 73.73737373737374 years | 96 particles | 73 step number |\n",
      "| 6.1 second | 0.1 minutes.\n",
      "\n",
      "| 469.6522350821105 time = 74.74747474747475 years | 96 particles | 74 step number |\n",
      "| 6.2 second | 0.1 minutes.\n",
      "\n",
      "| 475.9988869075445 time = 75.75757575757576 years | 96 particles | 75 step number |\n",
      "| 6.3 second | 0.1 minutes.\n",
      "\n",
      "| 482.3455387329784 time = 76.76767676767678 years | 96 particles | 76 step number |\n",
      "| 6.3 second | 0.1 minutes.\n",
      "\n",
      "| 488.69219055841234 time = 77.77777777777779 years | 96 particles | 77 step number |\n",
      "| 6.4 second | 0.1 minutes.\n",
      "\n",
      "| 495.03884238384626 time = 78.7878787878788 years | 96 particles | 78 step number |\n",
      "| 6.4 second | 0.1 minutes.\n",
      "\n",
      "| 501.3854942092802 time = 79.7979797979798 years | 96 particles | 79 step number |\n",
      "| 6.5 second | 0.1 minutes.\n",
      "\n",
      "| 507.7321460347141 time = 80.80808080808082 years | 96 particles | 80 step number |\n",
      "| 6.5 second | 0.1 minutes.\n",
      "\n",
      "| 514.078797860148 time = 81.81818181818183 years | 96 particles | 81 step number |\n",
      "| 6.6 second | 0.1 minutes.\n",
      "\n",
      "| 520.425449685582 time = 82.82828282828284 years | 96 particles | 82 step number |\n",
      "| 6.7 second | 0.1 minutes.\n",
      "\n",
      "| 526.7721015110159 time = 83.83838383838385 years | 96 particles | 83 step number |\n",
      "| 6.8 second | 0.1 minutes.\n",
      "\n",
      "| 533.1187533364498 time = 84.84848484848486 years | 96 particles | 84 step number |\n",
      "| 6.8 second | 0.1 minutes.\n",
      "\n",
      "| 539.4654051618837 time = 85.85858585858587 years | 96 particles | 85 step number |\n",
      "| 6.9 second | 0.1 minutes.\n",
      "\n",
      "| 545.8120569873176 time = 86.86868686868688 years | 96 particles | 86 step number |\n",
      "| 7.0 second | 0.1 minutes.\n",
      "\n",
      "| 552.1587088127516 time = 87.87878787878789 years | 96 particles | 87 step number |\n",
      "| 7.1 second | 0.1 minutes.\n",
      "\n",
      "| 558.5053606381855 time = 88.8888888888889 years | 96 particles | 88 step number |\n",
      "| 7.1 second | 0.1 minutes.\n",
      "\n",
      "| 564.8520124636194 time = 89.89898989898991 years | 96 particles | 89 step number |\n",
      "| 7.2 second | 0.1 minutes.\n",
      "\n",
      "| 571.1986642890533 time = 90.90909090909092 years | 96 particles | 90 step number |\n",
      "| 7.3 second | 0.1 minutes.\n",
      "\n",
      "| 577.5453161144873 time = 91.91919191919193 years | 95 particles | 91 step number |\n",
      "| 7.4 second | 0.1 minutes.\n",
      "\n",
      "| 583.8919679399212 time = 92.92929292929294 years | 94 particles | 92 step number |\n",
      "| 7.5 second | 0.1 minutes.\n",
      "\n",
      "| 590.2386197653551 time = 93.93939393939395 years | 94 particles | 93 step number |\n",
      "| 7.5 second | 0.1 minutes.\n",
      "\n",
      "| 596.585271590789 time = 94.94949494949496 years | 93 particles | 94 step number |\n",
      "| 7.6 second | 0.1 minutes.\n",
      "\n",
      "| 602.931923416223 time = 95.95959595959596 years | 93 particles | 95 step number |\n",
      "| 7.7 second | 0.1 minutes.\n",
      "\n",
      "| 609.2785752416569 time = 96.96969696969697 years | 93 particles | 96 step number |\n",
      "| 7.8 second | 0.1 minutes.\n",
      "\n",
      "| 615.6252270670908 time = 97.97979797979798 years | 93 particles | 97 step number |\n",
      "| 7.8 second | 0.1 minutes.\n",
      "\n",
      "| 621.9718788925247 time = 98.98989898989899 years | 93 particles | 98 step number |\n",
      "| 7.9 second | 0.1 minutes.\n",
      "\n",
      "| 628.3185307179587 time = 100.0 years | 93 particles | 99 step number |\n",
      "| 7.9 second | 0.1 minutes.\n",
      "\n",
      "Done at 7 seconds!\n",
      "Masses 0.0010500000000000002 and 0.0010400000000000001.\n",
      "Ending seed 0.\n",
      "\n",
      "That in total took 7 seconds (0.13 minutes).\n",
      "[['inner planet mass', 'outer planet mass', 'seed'], [0.0010500000000000002, 0.0010400000000000001, 0]]\n",
      "There are 93 particles remaining.\n",
      "[['inner planet mass', 'outer planet mass', 'seed'], [0.0010500000000000002, 0.0010400000000000001, 0]]\n",
      "There are 93 particles remaining.\n"
     ]
    },
    {
     "data": {
      "text/plain": [
       "<Figure size 432x288 with 0 Axes>"
      ]
     },
     "metadata": {},
     "output_type": "display_data"
    },
    {
     "data": {
      "text/plain": [
       "<Figure size 432x288 with 0 Axes>"
      ]
     },
     "metadata": {},
     "output_type": "display_data"
    },
    {
     "data": {
      "text/plain": [
       "<Figure size 576x576 with 0 Axes>"
      ]
     },
     "metadata": {},
     "output_type": "display_data"
    },
    {
     "data": {
      "text/plain": [
       "<Figure size 576x576 with 0 Axes>"
      ]
     },
     "metadata": {},
     "output_type": "display_data"
    },
    {
     "data": {
      "image/png": "[encoded data removed]",
      "text/plain": [
       "<Figure size 432x288 with 1 Axes>"
      ]
     },
     "metadata": {
      "needs_background": "light"
     },
     "output_type": "display_data"
    }
   ],
   "source": [
    "numberOfSims = 1 \n",
    "endTime = 100 #years of simulation\n",
    "ttor_masses = [['inner planet mass', 'outer planet mass','seed']]\n",
    "BIGinitial = tiempo.monotonic()\n",
    "# try:\n",
    "#     a = int(sys.argv[1])\n",
    "# except IndexError:\n",
    "#     print(\"#\"*40)\n",
    "#     print(\"\\n\"*3)\n",
    "#     print(\"Sys.argv had an error! Setting the seed equal to 0!\")\n",
    "#     print(\"\\n\"*3)\n",
    "#     print(\"#\"*40)\n",
    "a = 0\n",
    "#\n",
    "#for a in range(numberOfSims):\n",
    "stepFrequency = 1 # how often should a step occur (years)\n",
    "steps = int(endTime/stepFrequency) # Will round down to an integer\n",
    "print(f\"Steps: {steps}\")\n",
    "print(\"Beginning seed {}.\".format(a))\n",
    "sim = generatettor(simulation = ttor, seed =a, asteroidnumber = 100)\n",
    "quickcollect2(n=2, Ti = 0 * tau, Tf=endTime * tau, stepnumber = steps, asteroidCollect = True)\n",
    "print(\"Masses {} and {}.\".format(ps[1].m,ps[2].m))\n",
    "print(\"Ending seed {}.\\n\".format(a))\n",
    "pre_list = [ps[1].m, ps[2].m,a]\n",
    "ttor_masses.append(pre_list)\n",
    "#\n",
    "BIGfinal = tiempo.monotonic()\n",
    "totaltime = BIGfinal - BIGinitial\n",
    "print(\"That in total took {} seconds ({} minutes).\".format(int(totaltime), \\\n",
    "                                                           round(totaltime/60,2)))\n",
    "#masslist_txt(ttor_masses,'test.txt','ttor','w')\n",
    "print(ttor_masses)\n",
    "print(\"There are {} particles remaining.\".format(sim.N))\n",
    "#ding()\n",
    "# try:\n",
    "# \tif int(sys.argv[2]): # sys.argv=0 will mean this is the first data point, =1 is last\n",
    "# \t\tfirst = False\n",
    "# \t\tlast = True\n",
    "# \telse: \n",
    "# \t\tfirst = True\n",
    "# \t\tlast = False\n",
    "# except IndexError: # if first or last not specified, it is a middle data point\n",
    "# \tfirst = False\n",
    "# \tlast = False\n",
    "first = False\n",
    "last = False\n",
    "#masslist_txt_append(ttor_masses,'Masslists/shortTests.txt','ttor','a', first = first, last = last)\n",
    "print(ttor_masses)\n",
    "print(\"There are {} particles remaining.\".format(sim.N))\n",
    "\n",
    "saveFigs(addOn = \"testy\", seed = a, test = True)"
   ]
  },
  {
   "cell_type": "code",
   "execution_count": 40,
   "metadata": {},
   "outputs": [
    {
     "data": {
      "text/plain": [
       "Text(0, 0.5, 'Eccs')"
      ]
     },
     "execution_count": 40,
     "metadata": {},
     "output_type": "execute_result"
    },
    {
     "data": {
      "image/png": "[encoded data removed]",
      "text/plain": [
       "<Figure size 432x288 with 1 Axes>"
      ]
     },
     "metadata": {
      "needs_background": "light"
     },
     "output_type": "display_data"
    }
   ],
   "source": [
    "plt.clf()\n",
    "plt.plot(times, asteroidEccs[:,[i for i in range(0,simNi-2-1,1)]], linewidth=1)\n",
    "plt.title('Asteroid Eccentricity Axis Over Time')\n",
    "plt.xlabel('Time (2pi*yr)')\n",
    "plt.ylabel('Eccs')"
   ]
  },
  {
   "cell_type": "code",
   "execution_count": 51,
   "metadata": {},
   "outputs": [
    {
     "data": {
      "text/plain": [
       "(array([32.,  4.,  6.,  8.,  5.,  5.,  2.,  3.,  3.,  0.,  1.,  1.,  3.,\n",
       "         0.,  3.,  1.,  4.,  1.,  0.,  1.,  0.,  1.,  2.,  1.,  1.,  0.,\n",
       "         0.,  1.,  0.,  1.]),\n",
       " array([0.00178841, 0.02342177, 0.04505514, 0.0666885 , 0.08832187,\n",
       "        0.10995523, 0.1315886 , 0.15322196, 0.17485533, 0.19648869,\n",
       "        0.21812205, 0.23975542, 0.26138878, 0.28302215, 0.30465551,\n",
       "        0.32628888, 0.34792224, 0.36955561, 0.39118897, 0.41282234,\n",
       "        0.4344557 , 0.45608907, 0.47772243, 0.4993558 , 0.52098916,\n",
       "        0.54262252, 0.56425589, 0.58588925, 0.60752262, 0.62915598,\n",
       "        0.65078935]),\n",
       " <BarContainer object of 30 artists>)"
      ]
     },
     "execution_count": 51,
     "metadata": {},
     "output_type": "execute_result"
    },
    {
     "data": {
      "image/png": "[encoded data removed]",
      "text/plain": [
       "<Figure size 432x288 with 1 Axes>"
      ]
     },
     "metadata": {
      "needs_background": "light"
     },
     "output_type": "display_data"
    }
   ],
   "source": [
    "plt.clf()\n",
    "num_bins = 30\n",
    "plt.hist([data for data in asteroidEccs[-1] if data >= 0], num_bins)\n",
    "plt.savefig(\"Figures/\"+str(seed)+\"/RoidEccsHistoEnd\"+addOn+\".pdf\")"
   ]
  },
  {
   "cell_type": "code",
   "execution_count": 48,
   "metadata": {},
   "outputs": [
    {
     "ename": "NameError",
     "evalue": "name 'seed' is not defined",
     "output_type": "error",
     "traceback": [
      "\u001b[0;31m---------------------------------------------------------------------------\u001b[0m",
      "\u001b[0;31mNameError\u001b[0m                                 Traceback (most recent call last)",
      "\u001b[0;32m<ipython-input-48-13cea2156abe>\u001b[0m in \u001b[0;36m<module>\u001b[0;34m\u001b[0m\n\u001b[1;32m      4\u001b[0m \u001b[0mplt\u001b[0m\u001b[0;34m.\u001b[0m\u001b[0mxlabel\u001b[0m\u001b[0;34m(\u001b[0m\u001b[0;34m'Time (2pi*yr)'\u001b[0m\u001b[0;34m)\u001b[0m\u001b[0;34m\u001b[0m\u001b[0;34m\u001b[0m\u001b[0m\n\u001b[1;32m      5\u001b[0m \u001b[0mplt\u001b[0m\u001b[0;34m.\u001b[0m\u001b[0mylabel\u001b[0m\u001b[0;34m(\u001b[0m\u001b[0;34m'Eccentricity'\u001b[0m\u001b[0;34m)\u001b[0m\u001b[0;34m\u001b[0m\u001b[0;34m\u001b[0m\u001b[0m\n\u001b[0;32m----> 6\u001b[0;31m \u001b[0mplt\u001b[0m\u001b[0;34m.\u001b[0m\u001b[0msavefig\u001b[0m\u001b[0;34m(\u001b[0m\u001b[0;34m\"Figures/\"\u001b[0m\u001b[0;34m+\u001b[0m\u001b[0mstr\u001b[0m\u001b[0;34m(\u001b[0m\u001b[0mseed\u001b[0m\u001b[0;34m)\u001b[0m\u001b[0;34m+\u001b[0m\u001b[0;34m\"/RoidSMAxisAverage\"\u001b[0m\u001b[0;34m+\u001b[0m\u001b[0maddOn\u001b[0m\u001b[0;34m+\u001b[0m\u001b[0;34m\".pdf\"\u001b[0m\u001b[0;34m)\u001b[0m\u001b[0;34m\u001b[0m\u001b[0;34m\u001b[0m\u001b[0m\n\u001b[0m",
      "\u001b[0;31mNameError\u001b[0m: name 'seed' is not defined"
     ]
    },
    {
     "data": {
      "image/png": "[encoded data removed]",
      "text/plain": [
       "<Figure size 432x288 with 1 Axes>"
      ]
     },
     "metadata": {
      "needs_background": "light"
     },
     "output_type": "display_data"
    }
   ],
   "source": [
    "plt.clf()\n",
    "plt.plot(times, [avg(EccsList, positive = True) for EccsList in asteroidEccs],linewidth=1)\n",
    "plt.title('Asteroid Eccentricity AVERAGE Over Time')\n",
    "plt.xlabel('Time (2pi*yr)')\n",
    "plt.ylabel('Eccentricity')\n",
    "plt.savefig(\"Figures/\"+str(seed)+\"/RoidSMAxisAverage\"+addOn+\".pdf\")"
   ]
  },
  {
   "cell_type": "code",
   "execution_count": 43,
   "metadata": {},
   "outputs": [
    {
     "data": {
      "text/plain": [
       "(array([32.,  4.,  6.,  8.,  5.,  5.,  2.,  3.,  3.,  0.,  1.,  1.,  3.,\n",
       "         0.,  3.,  1.,  4.,  1.,  0.,  1.,  0.,  1.,  2.,  1.,  1.,  0.,\n",
       "         0.,  1.,  0.,  1.]),\n",
       " array([0.00178841, 0.02342177, 0.04505514, 0.0666885 , 0.08832187,\n",
       "        0.10995523, 0.1315886 , 0.15322196, 0.17485533, 0.19648869,\n",
       "        0.21812205, 0.23975542, 0.26138878, 0.28302215, 0.30465551,\n",
       "        0.32628888, 0.34792224, 0.36955561, 0.39118897, 0.41282234,\n",
       "        0.4344557 , 0.45608907, 0.47772243, 0.4993558 , 0.52098916,\n",
       "        0.54262252, 0.56425589, 0.58588925, 0.60752262, 0.62915598,\n",
       "        0.65078935]),\n",
       " <BarContainer object of 30 artists>)"
      ]
     },
     "execution_count": 43,
     "metadata": {},
     "output_type": "execute_result"
    },
    {
     "data": {
      "image/png": "[encoded data removed]",
      "text/plain": [
       "<Figure size 432x288 with 1 Axes>"
      ]
     },
     "metadata": {
      "needs_background": "light"
     },
     "output_type": "display_data"
    }
   ],
   "source": [
    "plt.clf()\n",
    "num_bins =30\n",
    "plt.hist([data for data in asteroidEccs[-1] if data >= 0], num_bins)"
   ]
  },
  {
   "cell_type": "code",
   "execution_count": 30,
   "metadata": {},
   "outputs": [
    {
     "data": {
      "text/plain": [
       "array([[0.00213095, 0.00227771, 0.00214434, ..., 0.00236732, 0.00212638,\n",
       "        0.00163729],\n",
       "       [0.00442119, 0.00427359, 0.00633507, ..., 0.0026959 , 0.00239909,\n",
       "        0.0171412 ],\n",
       "       [0.00239071, 0.00547465, 0.00531342, ..., 0.00245213, 0.00489385,\n",
       "        0.02208477],\n",
       "       ...,\n",
       "       [0.39598914, 0.2095822 , 0.07939152, ..., 0.00702561, 0.31621795,\n",
       "        0.14940208],\n",
       "       [0.40471268, 0.20659113, 0.08032478, ..., 0.0030262 , 0.31651619,\n",
       "        0.18105338],\n",
       "       [0.4137051 , 0.19297719, 0.08334997, ..., 0.00249092, 0.31103032,\n",
       "        0.1853824 ]])"
      ]
     },
     "execution_count": 30,
     "metadata": {},
     "output_type": "execute_result"
    }
   ],
   "source": [
    "asteroidEccs"
   ]
  },
  {
   "cell_type": "code",
   "execution_count": 6,
   "metadata": {},
   "outputs": [
    {
     "data": {
      "text/plain": [
       "Text(0, 0.5, 'Semi Major Axis (AU)')"
      ]
     },
     "execution_count": 6,
     "metadata": {},
     "output_type": "execute_result"
    },
    {
     "data": {
      "image/png": "[encoded data removed]",
      "text/plain": [
       "<Figure size 432x288 with 1 Axes>"
      ]
     },
     "metadata": {
      "needs_background": "light"
     },
     "output_type": "display_data"
    }
   ],
   "source": [
    "asteroidAUaverage = [avg(asteroidAUList) for asteroidAUList in asteroidAU]\n",
    "plt.plot(times, asteroidAUaverage,linewidth=1)\n",
    "plt.title('Asteroid Semi Major Axis AVERAGE Over Time')\n",
    "plt.xlabel('Time (2pi*yr)')\n",
    "plt.ylabel('Semi Major Axis (AU)')\n",
    "#plt.ylim(bottom=-.3, top = 5) # Only want to graph part of escaping asteroids"
   ]
  },
  {
   "cell_type": "code",
   "execution_count": 7,
   "metadata": {
    "scrolled": true
   },
   "outputs": [
    {
     "data": {
      "text/plain": [
       "[1.7785390782304518,\n",
       " 1.7783406705292242,\n",
       " 1.7780823035095505,\n",
       " 1.7778878820771908,\n",
       " 1.7780302210954775,\n",
       " 1.7787941326966044,\n",
       " 1.7799007717273903,\n",
       " 1.781516799435002,\n",
       " 1.7828486533593275,\n",
       " 1.7785255972843288,\n",
       " 1.778679323509837,\n",
       " 1.7790439579096828,\n",
       " 1.7824841165817602,\n",
       " 1.7821660045375651,\n",
       " 1.7859491091935835,\n",
       " 1.7875240862716937,\n",
       " 1.7800669138230247,\n",
       " 1.7799214278495692,\n",
       " 1.7799853234123975,\n",
       " 1.7796564948198108,\n",
       " 1.7794015525212534,\n",
       " 1.779278424459155,\n",
       " 1.779183089207437,\n",
       " 1.7792449902790437,\n",
       " 1.7795822126307002,\n",
       " 1.7799686993644337,\n",
       " 1.7802903051570118,\n",
       " 1.78050242568058,\n",
       " 1.7805565716467808,\n",
       " 1.7802162892688025,\n",
       " 1.7812677274583575,\n",
       " 1.7814833831659547,\n",
       " 1.7818457891744948,\n",
       " 1.7825295182831502,\n",
       " 1.7826255713568988,\n",
       " 1.7820793706723712,\n",
       " 1.7818137674676964,\n",
       " 1.7818912481965001,\n",
       " 1.7822550136568076,\n",
       " 1.7833403990029248,\n",
       " 1.7833534205420465,\n",
       " 1.780977025216176,\n",
       " 1.795799518096337,\n",
       " 1.790383801989885,\n",
       " 1.7899696485480028,\n",
       " 1.7910994963926512,\n",
       " 1.7912981214350046,\n",
       " 1.7909465913990459,\n",
       " 1.7899677073901725,\n",
       " 1.7740168775982048,\n",
       " 1.771853105634071,\n",
       " 1.7721301154117222,\n",
       " 1.771617485078676,\n",
       " 1.7729992458904147,\n",
       " 1.7756237501402814,\n",
       " 1.7783778768992713,\n",
       " 1.7797690835513629,\n",
       " 1.780666408835735,\n",
       " 1.7807537923517678,\n",
       " 1.780443299023601,\n",
       " 1.7798283358970712,\n",
       " 1.7805996717523045,\n",
       " 1.8191325498597188,\n",
       " 1.794281259414655,\n",
       " 1.7798309008787325,\n",
       " 1.7796035342923866,\n",
       " 1.779910330772097,\n",
       " 1.7805583927385402,\n",
       " 1.7824845613591531,\n",
       " 1.8018573261377244,\n",
       " 1.7780361865858685,\n",
       " 1.7823635149258485,\n",
       " 1.7777827653226836,\n",
       " 1.7784409938495083,\n",
       " 1.7839692833368515,\n",
       " 1.7918428200132077,\n",
       " 1.7768029519735762,\n",
       " 1.773501976800679,\n",
       " 1.771272595793188,\n",
       " 1.7697983425871835,\n",
       " 1.7683232797911905,\n",
       " 1.7778340996622757,\n",
       " 1.7749470372532168,\n",
       " 1.7749114960134167,\n",
       " 1.77562032098268,\n",
       " 1.7738861961104087,\n",
       " 1.7758867363889386,\n",
       " 1.7767659124919382,\n",
       " 1.776060043844591,\n",
       " 1.7751701314248398,\n",
       " 1.7744346404605178,\n",
       " 1.7750036212666547,\n",
       " 1.7946374547982396,\n",
       " 1.788330600352579,\n",
       " 1.7869341447790148,\n",
       " 1.7864636968369425,\n",
       " 1.78635650369435,\n",
       " 1.7867534637667415,\n",
       " 1.7874551380576396,\n",
       " 1.788260487689332,\n",
       " 1.7890554164958212,\n",
       " 1.7894898704601032,\n",
       " 1.789685675696256,\n",
       " 1.790282963670237,\n",
       " 1.79215217970007,\n",
       " 1.7743393090259953,\n",
       " 1.774144414248582,\n",
       " 1.7739145058190502,\n",
       " 1.7737698984275305,\n",
       " 1.7738389813718098,\n",
       " 1.7740608614485966,\n",
       " 1.7741888151653304,\n",
       " 1.7739829136328535,\n",
       " 1.773219343401266,\n",
       " 1.7733391718411238,\n",
       " 1.7739477289906516,\n",
       " 1.7749819462475205,\n",
       " 1.7768833915016649,\n",
       " 1.7775104499441796,\n",
       " 1.7776923410878396,\n",
       " 1.7776979709430416,\n",
       " 1.7779026571645247,\n",
       " 1.7780869605660639,\n",
       " 1.7776995473699326,\n",
       " 1.777145390406251,\n",
       " 1.7768250544887487,\n",
       " 1.7758241047401158,\n",
       " 1.7740518674282704,\n",
       " 1.7730851674241992,\n",
       " 1.77128710835242,\n",
       " 1.7740769712553108,\n",
       " 1.7752491700569437,\n",
       " 1.7761572713084155,\n",
       " 1.776458413900684,\n",
       " 1.7769003740122407,\n",
       " 1.7772417832465683,\n",
       " 1.7775547490400299,\n",
       " 1.7778517446992566,\n",
       " 1.7780115991436518,\n",
       " 1.7777091708470536,\n",
       " 1.7775172195337692,\n",
       " 1.7775420264145578,\n",
       " 1.7779067510702347,\n",
       " 1.7786720767729847,\n",
       " 1.7805141595573792,\n",
       " 1.7824178941739752,\n",
       " 1.783929076419559,\n",
       " 1.7843351843817785,\n",
       " 1.7847171721934467,\n",
       " 1.7854595309603396,\n",
       " 1.770955386104435,\n",
       " 1.7707557680232426,\n",
       " 1.7712285012644853,\n",
       " 1.7956234205549262,\n",
       " 1.7874187914160948,\n",
       " 1.7888657974322384,\n",
       " 1.7938589782080578,\n",
       " 1.7862309194760948,\n",
       " 1.7880912771749105,\n",
       " 1.7897850255111671,\n",
       " 1.7897872572759945,\n",
       " 1.7897381347706502,\n",
       " 1.78947972253341,\n",
       " 1.7884522068629627,\n",
       " 1.7880536156138518,\n",
       " 1.7878628138621233,\n",
       " 1.7877243283217887,\n",
       " 1.7873814680234577,\n",
       " 1.788180961638677,\n",
       " 1.7908031909795719,\n",
       " 1.7903404421923979,\n",
       " 1.7896218925275043,\n",
       " 1.7892674360096288,\n",
       " 1.7928262632628185,\n",
       " 1.7875697359414737,\n",
       " 1.7880317039178941,\n",
       " 1.7887835013501763,\n",
       " 1.7918166671464772,\n",
       " 1.7964497589152058,\n",
       " 1.796831913002311,\n",
       " 1.7972457195278588,\n",
       " 1.7974317323059676,\n",
       " 1.797183785752234,\n",
       " 1.792895047026994,\n",
       " 1.7935922091806205,\n",
       " 1.7944387997707754,\n",
       " 1.794202525975122,\n",
       " 1.7943389300266304,\n",
       " 1.7943994251255355,\n",
       " 1.7872567366837955,\n",
       " 1.7892458418697925,\n",
       " 1.7908066573801178,\n",
       " 1.7924604078019133,\n",
       " 1.7986379737430374,\n",
       " 1.7898146244779054,\n",
       " 1.7915966108193861,\n",
       " 1.7939591069721377,\n",
       " 1.7911201113306132,\n",
       " 1.7921126365345708,\n",
       " 1.793918797956948,\n",
       " 1.7844135292755083,\n",
       " 1.7901018431342752,\n",
       " 1.7927664187275993,\n",
       " 1.7882382908382168,\n",
       " 1.7958971252446756,\n",
       " 1.7953047760361742,\n",
       " 1.7958100673569937,\n",
       " 1.7894618786381036,\n",
       " 1.7905493917551818,\n",
       " 1.790394443567968,\n",
       " 1.790127607394236,\n",
       " 1.7895744541873306,\n",
       " 1.7890852388806904,\n",
       " 1.7889858371647442,\n",
       " 1.789391201127387,\n",
       " 1.7893646740817937,\n",
       " 1.7896089094143302,\n",
       " 1.7902071878263712,\n",
       " 1.7910010270117815,\n",
       " 1.791721534132025,\n",
       " 1.79240656833327,\n",
       " 1.7929078349828438,\n",
       " 1.7930581263009209,\n",
       " 1.793134168974528,\n",
       " 1.7931595149418424,\n",
       " 1.793348087808597,\n",
       " 1.7932923244250174,\n",
       " 1.7933998468956331,\n",
       " 1.7935306159966031,\n",
       " 1.794531667613292,\n",
       " 1.7935059625346985,\n",
       " 1.7978205127215978,\n",
       " 1.7922828329071303,\n",
       " 1.7911998936883433,\n",
       " 1.7913208805070002,\n",
       " 1.7913825547016033,\n",
       " 1.7914682747715704,\n",
       " 1.7915461585200558,\n",
       " 1.7914750658913388,\n",
       " 1.791473613407073,\n",
       " 1.7915310518968093,\n",
       " 1.7916542978848073,\n",
       " 1.7917327562776304,\n",
       " 1.7917704310112474,\n",
       " 1.7919157488510566,\n",
       " 1.7919336634166962,\n",
       " 1.7919758334154932,\n",
       " 1.792086328111258,\n",
       " 1.7921847455563584,\n",
       " 1.7922966749752638,\n",
       " 1.7922848910269438,\n",
       " 1.7914661838286758,\n",
       " 1.7904150019691698,\n",
       " 1.7892195031423,\n",
       " 1.7911551408704998,\n",
       " 1.7925459355380866,\n",
       " 1.7932023787740212,\n",
       " 1.7937534740900296,\n",
       " 1.7941552747155762,\n",
       " 1.7942347600840511,\n",
       " 1.794072009561939,\n",
       " 1.7936724739481866,\n",
       " 1.7935321645449571,\n",
       " 1.7935246847085369,\n",
       " 1.7938696167277925,\n",
       " 1.7941744351729179,\n",
       " 1.794376138855175,\n",
       " 1.7944380331324588,\n",
       " 1.794482788966769,\n",
       " 1.7940890189325345,\n",
       " 1.7935631596398554,\n",
       " 1.7931592336107847,\n",
       " 1.7926649014717757,\n",
       " 1.7923936657618145,\n",
       " 1.7922300316612065,\n",
       " 1.7921272078572,\n",
       " 1.7921737923699608,\n",
       " 1.7922453451353095,\n",
       " 1.7921386537967983,\n",
       " 1.7919358492084776,\n",
       " 1.7917561753277342,\n",
       " 1.792274829354349,\n",
       " 1.7942239875932406,\n",
       " 1.7956061155388665,\n",
       " 1.7980918465011906,\n",
       " 1.7966172001851393,\n",
       " 1.7954617881390609,\n",
       " 1.7946767401261587,\n",
       " 1.7940323906370623,\n",
       " 1.793603841369326,\n",
       " 1.7935969538388323,\n",
       " 1.7942335783455896,\n",
       " 1.7837688801166434,\n",
       " 1.7839112037712583,\n",
       " 1.7839870034340968,\n",
       " 1.7839717086073998,\n",
       " 1.7833506835740771,\n",
       " 1.7816606602978067,\n",
       " 1.7920044740134637,\n",
       " 1.78831493180585,\n",
       " 1.787037817860449,\n",
       " 1.7864528931471702,\n",
       " 1.7861639832818248,\n",
       " 1.7864940102857207,\n",
       " 1.7894566348780347,\n",
       " 1.7944752529828853,\n",
       " 1.7872146063143666,\n",
       " 1.786271457734309,\n",
       " 1.7867707396297539,\n",
       " 1.7876865720262665,\n",
       " 1.788799213955679,\n",
       " 1.7903407913988745,\n",
       " 1.7928612730236557,\n",
       " 1.7981028622993913,\n",
       " 1.7916573194211234,\n",
       " 1.7826698454925947,\n",
       " 1.7746505219512627,\n",
       " 1.7713187638878538,\n",
       " 1.781689106296024,\n",
       " 1.788601767146712,\n",
       " 1.7854927564275496,\n",
       " 1.7836471044026325,\n",
       " 1.7825620069801502,\n",
       " 1.7818364670472056,\n",
       " 1.7791437245585862,\n",
       " 1.7841605473901225,\n",
       " 1.7851370189755105,\n",
       " 1.7857756389401063,\n",
       " 1.7865531695010453,\n",
       " 1.7894614671752387,\n",
       " 1.7901721741599288,\n",
       " 1.7903475148080756,\n",
       " 1.7903700419981943,\n",
       " 1.790210427401417,\n",
       " 1.7899641355653757,\n",
       " 1.7899782100037482,\n",
       " 1.7907276477243508,\n",
       " 1.7914152282548228,\n",
       " 1.7917518441333866,\n",
       " 1.7924948122805002,\n",
       " 1.7938420341387056,\n",
       " 1.794772418850687,\n",
       " 1.7950405717902953,\n",
       " 1.7948108407899073,\n",
       " 1.7938114146276751,\n",
       " 1.7936246537903906,\n",
       " 1.7938178549581023,\n",
       " 1.7937313766461005,\n",
       " 1.7934898653085978,\n",
       " 1.7933917121712841,\n",
       " 1.7933097858345237,\n",
       " 1.793205634004086,\n",
       " 1.793029017319475,\n",
       " 1.7928238915868744,\n",
       " 1.7926720058447336,\n",
       " 1.7928021742231215,\n",
       " 1.79279864721713,\n",
       " 1.792953797540675,\n",
       " 1.7929210480540425,\n",
       " 1.7927123528458246,\n",
       " 1.7930036904345499,\n",
       " 1.799793637091775,\n",
       " 1.7804243753215312,\n",
       " 1.7803364277084293,\n",
       " 1.7799542019756673,\n",
       " 1.779279078681232,\n",
       " 1.778446644361671,\n",
       " 1.7779729392259276,\n",
       " 1.7774821234796014,\n",
       " 1.7774511584665955,\n",
       " 1.7779269180225614,\n",
       " 1.778868759607351,\n",
       " 1.8423958210115392,\n",
       " 1.776835009465396,\n",
       " 1.7758115607892748,\n",
       " 1.7710318703015295,\n",
       " 1.7702510865273284,\n",
       " 1.7704903262102163,\n",
       " 1.7707772423844994,\n",
       " 1.7711958149681832,\n",
       " 1.7716519361964842,\n",
       " 1.7721821941557037,\n",
       " 1.7724603589643229,\n",
       " 1.7729465047156652,\n",
       " 1.7732180288089785,\n",
       " 1.773343862630278,\n",
       " 1.773466418789015,\n",
       " 1.7736238204600745,\n",
       " 1.7738645393831356,\n",
       " 1.7743175167838359,\n",
       " 1.7747506076960124,\n",
       " 1.7748543818643319,\n",
       " 1.7746233988094167,\n",
       " 1.7743317960089628,\n",
       " 1.7740896488261972,\n",
       " 1.7740656482812007,\n",
       " 1.7737050438834943,\n",
       " 1.7728741030701831,\n",
       " 1.7725863282911805,\n",
       " 1.77283581971099,\n",
       " 1.772902398315909,\n",
       " 1.7729906726257654,\n",
       " 1.7730788165890163,\n",
       " 1.7730691415034447,\n",
       " 1.773037594435879,\n",
       " 1.773087757022712,\n",
       " 1.7724614889681303,\n",
       " 1.7718920602067982,\n",
       " 1.7715456978889572,\n",
       " 1.7715147907327065,\n",
       " 1.7716102611268427,\n",
       " 1.7716043720872037,\n",
       " 1.7714851381274628,\n",
       " 1.7713685904579968,\n",
       " 1.7714585181498648,\n",
       " 1.7715213422206415,\n",
       " 1.7717264916077187,\n",
       " 1.7719971462436777,\n",
       " 1.7722199127545213,\n",
       " 1.7723847090898561,\n",
       " 1.7724663340334816,\n",
       " 1.7726252676458216,\n",
       " 1.772936958809798,\n",
       " 1.773084935503196,\n",
       " 1.7724810632541521,\n",
       " 1.7715457148889997,\n",
       " 1.7706099800041017,\n",
       " 1.7699160152411935,\n",
       " 1.7693309533598895,\n",
       " 1.76886088290253,\n",
       " 1.768573601261228,\n",
       " 1.7684128158556496,\n",
       " 1.7682273388886438,\n",
       " 1.7680612903369382,\n",
       " 1.7680335809051464,\n",
       " 1.7682599368357401,\n",
       " 1.7686728184888776,\n",
       " 1.7693797240893954,\n",
       " 1.7711775616803829,\n",
       " 1.7706179785285965,\n",
       " 1.762720335675135,\n",
       " 1.7631546081710965,\n",
       " 1.763165350655999,\n",
       " 1.7618130168924284,\n",
       " 1.7649703464804776,\n",
       " 1.7630225535066635,\n",
       " 1.761839869588203,\n",
       " 1.762323899620324,\n",
       " 1.7635631172034807,\n",
       " 1.7644535483327273,\n",
       " 1.7655909066217794,\n",
       " 1.7673949741439952,\n",
       " 1.7634179995158337,\n",
       " 1.7627566241789365,\n",
       " 1.765476506897206,\n",
       " 1.766178830554984,\n",
       " 1.7664809409589302,\n",
       " 1.7670713699798386,\n",
       " 1.7680343233063176,\n",
       " 1.7691518382976332,\n",
       " 1.770609866556283,\n",
       " 1.774944189665357,\n",
       " 1.7733425464338106,\n",
       " 1.769853223848104,\n",
       " 1.7692045761536976,\n",
       " 1.7689043139009646,\n",
       " 1.7685981328415188,\n",
       " 1.7680295362068963,\n",
       " 1.7678610991012451,\n",
       " 1.7679000048406999,\n",
       " 1.7681170381738425,\n",
       " 1.7686169124307827,\n",
       " 1.7681212640250306,\n",
       " 1.7666756342237662,\n",
       " 1.7656715550063018,\n",
       " 1.7652960988713315,\n",
       " 1.765342179598804,\n",
       " 1.7652533420609253,\n",
       " 1.765258799609555,\n",
       " 1.765585284784645,\n",
       " 1.765855874640386,\n",
       " 1.765628324582124,\n",
       " 1.7651297395935654,\n",
       " 1.7645195413852255,\n",
       " 1.7639806326014575,\n",
       " 1.7634846464970224,\n",
       " 1.7632234087972543,\n",
       " 1.7632220069979097,\n",
       " 1.7634314117569874,\n",
       " 1.7635313690022059,\n",
       " 1.763596661985003,\n",
       " 1.7644165043147373,\n",
       " 1.7693756678280772,\n",
       " 1.767103296121904,\n",
       " 1.766755350111013,\n",
       " 1.7666847720478893,\n",
       " 1.7667347775667168,\n",
       " 1.7668651113928424,\n",
       " 1.768352113923205,\n",
       " 1.7752180567144256,\n",
       " 1.7815871060186428,\n",
       " 1.7575513455316298,\n",
       " 1.755540680486151,\n",
       " 1.7547397176662411,\n",
       " 1.7541710924016343,\n",
       " 1.7537445759061245,\n",
       " 1.7534530649325035,\n",
       " 1.7533861270224071,\n",
       " 1.7538520288585802,\n",
       " 1.7548502076119317,\n",
       " 1.7555359569516356,\n",
       " 1.7660706577567407,\n",
       " 1.759226296457072,\n",
       " 1.7583312343148787,\n",
       " 1.759154347473376,\n",
       " 1.758089493256907,\n",
       " 1.7575024735038567,\n",
       " 1.7571682325472826,\n",
       " 1.7574137440426627,\n",
       " 1.75755268093444,\n",
       " 1.7571211353322607,\n",
       " 1.7564798919247202,\n",
       " 1.7556589361687218,\n",
       " 1.767308619808018,\n",
       " 1.7648094104979932,\n",
       " 1.7642949220075328,\n",
       " 1.7639604566481597,\n",
       " 1.7637850481369142,\n",
       " 1.7634817623922978,\n",
       " 1.7633559381145902,\n",
       " 1.763438372520965,\n",
       " 1.7635285617571987,\n",
       " 1.7635203758836502,\n",
       " 1.7634575148428946,\n",
       " 1.7634304519848498,\n",
       " 1.7635385084210333,\n",
       " 1.7636453855513856,\n",
       " 1.7636610797279784,\n",
       " 1.7635605345042185,\n",
       " 1.763302944960285,\n",
       " 1.7628332338796202,\n",
       " 1.762277010397118,\n",
       " 1.7617271524604694,\n",
       " 1.7614563269878127,\n",
       " 1.7614835647083609,\n",
       " 1.761414926209396,\n",
       " 1.7614858669100784,\n",
       " 1.7617799817188688,\n",
       " 1.762386494875244,\n",
       " 1.7626644368344717,\n",
       " 1.7630369192303499,\n",
       " 1.7634718857605804,\n",
       " 1.7637965414487689,\n",
       " 1.7639889698582563,\n",
       " 1.7643134293488192,\n",
       " 1.7645814419385493,\n",
       " 1.764738868534384,\n",
       " 1.7648165074359712,\n",
       " 1.765240560404014,\n",
       " 1.7788312780814532,\n",
       " 1.7861845288811131,\n",
       " 1.7815154001295272,\n",
       " 1.7802471700770033,\n",
       " 1.7799511046820922,\n",
       " 1.7807126330317162,\n",
       " 1.7826764811863316,\n",
       " 1.7915269482978076,\n",
       " 1.7715102041658335,\n",
       " 1.7715073523028015,\n",
       " 1.7714073108275932,\n",
       " 1.7714201184613856,\n",
       " 1.7715662773889493,\n",
       " 1.7719747803148151,\n",
       " 1.7729802076874708,\n",
       " 1.7774224391253481,\n",
       " 1.7781151122480099,\n",
       " 1.7786473645275462,\n",
       " 1.7795617083979964,\n",
       " 1.7801487097266693,\n",
       " 1.7802505213719173,\n",
       " 1.7797714878135407,\n",
       " 1.7789113820118154,\n",
       " 1.7783105676487536,\n",
       " 1.777944509485727,\n",
       " 1.7775676057997092,\n",
       " 1.7768086358611277,\n",
       " 1.7748164546573961,\n",
       " 1.7744663606443225,\n",
       " 1.7749679293842844,\n",
       " 1.775973665162011,\n",
       " 1.7780403622535306,\n",
       " 1.789571479275608,\n",
       " 1.790917511581309,\n",
       " 1.7904229403965002,\n",
       " 1.7940029229005416,\n",
       " 1.7944925319127418,\n",
       " 1.7944398614662318,\n",
       " 1.7946064218442515,\n",
       " 1.7950744896656345,\n",
       " 1.7963962132634799,\n",
       " 1.798500683165713,\n",
       " 1.7979913709480326,\n",
       " 1.7939574070968514,\n",
       " 1.7910809875056288,\n",
       " 1.7890984081602168,\n",
       " 1.7881898967377512,\n",
       " 1.7878371754423694,\n",
       " 1.7878131113582283,\n",
       " 1.78794680780639,\n",
       " 1.7882685436416654,\n",
       " 1.7885687018055691,\n",
       " 1.7887371579358784,\n",
       " 1.7888143190127774,\n",
       " 1.7888970609874522,\n",
       " 1.7887273169479,\n",
       " 1.7885289859869766,\n",
       " 1.78854934767794,\n",
       " 1.7885824789942726,\n",
       " 1.7885937511743917,\n",
       " 1.7885982003443295,\n",
       " 1.7889705035179944,\n",
       " 1.7916614871004197,\n",
       " 1.7915817572948163,\n",
       " 1.7914776809062836,\n",
       " 1.7915307043633053,\n",
       " 1.7918686613731916,\n",
       " 1.7921336713973182,\n",
       " 1.7921468039795097,\n",
       " 1.7922451550113778,\n",
       " 1.7921125419090915,\n",
       " 1.7918316880970746,\n",
       " 1.7914856875854819,\n",
       " 1.7913430252597642,\n",
       " 1.7911125900466656,\n",
       " 1.7910140564490535,\n",
       " 1.7909306993261551,\n",
       " 1.7904079052467845,\n",
       " 1.7893196573145926,\n",
       " 1.7888179862898277,\n",
       " 1.7885413924945233,\n",
       " 1.7880812997699604,\n",
       " 1.787559250424376,\n",
       " 1.7870680633546367,\n",
       " 1.786546357938208,\n",
       " 1.7807937091575432,\n",
       " 1.7846934269183128,\n",
       " 1.7858219960214194,\n",
       " 1.7868138378565,\n",
       " 1.7874230029915839,\n",
       " 1.7876901183436096,\n",
       " 1.7877801306682963,\n",
       " 1.78792669209745,\n",
       " 1.7879768438978914,\n",
       " 1.7878563419258504,\n",
       " 1.788131358311095,\n",
       " 1.7886390374771066,\n",
       " 1.7888929960401088,\n",
       " 1.78892529357804,\n",
       " 1.7893105907190507,\n",
       " 1.789714704171203,\n",
       " 1.7903311611876316,\n",
       " 1.7960821280650006,\n",
       " 1.7972326859434538,\n",
       " 1.7827793378175085,\n",
       " 1.7820388861461687,\n",
       " 1.781451499644472,\n",
       " 1.7809614743446998,\n",
       " 1.7808459752175085,\n",
       " 1.7813171489470137,\n",
       " 1.7823213741050339,\n",
       " 1.783708627522047,\n",
       " 1.785630274161457,\n",
       " 1.787492320677183,\n",
       " 1.7887377434583394,\n",
       " 1.7953771982728903,\n",
       " 1.7842726988180555,\n",
       " 1.7849155643750958,\n",
       " 1.7857854215866253,\n",
       " 1.786668366278483,\n",
       " 1.7870089298205636,\n",
       " 1.786673639053071,\n",
       " 1.786443031062226,\n",
       " 1.7865080739885477,\n",
       " 1.7863577834171378,\n",
       " 1.7858033031735245,\n",
       " 1.7874568933513597,\n",
       " 1.7875983381878866,\n",
       " 1.7874257197359416,\n",
       " 1.7871563623526625,\n",
       " 1.786830383511368,\n",
       " 1.7864327775491609,\n",
       " 1.7860285624216328,\n",
       " 1.7859157773652825,\n",
       " 1.7860889299322715,\n",
       " 1.7865043573401886,\n",
       " 1.7869674801860804,\n",
       " 1.7874813846529918,\n",
       " 1.7879043779381811,\n",
       " 1.787933857408715,\n",
       " 1.787885652709699,\n",
       " 1.7879951004881216,\n",
       " 1.7882751971362918,\n",
       " 1.7886905403729394,\n",
       " 1.788750232308448,\n",
       " 1.7887807327995828,\n",
       " 1.7883641688316003,\n",
       " 1.7877299775932665,\n",
       " 1.7859247058954795,\n",
       " 1.7856695642925593,\n",
       " 1.7856450651281839,\n",
       " 1.7857154397058046,\n",
       " 1.7857252674845712,\n",
       " 1.785730185587051,\n",
       " 1.7855686198840752,\n",
       " 1.7856818595024948,\n",
       " 1.7863159451493413,\n",
       " 1.787829448809456,\n",
       " 1.7889940585400443,\n",
       " 1.7896389794858538,\n",
       " 1.7896221792303408,\n",
       " 1.7883683386177103,\n",
       " 1.7884321885210384,\n",
       " 1.7890502956011134,\n",
       " 1.789885920139116,\n",
       " 1.7907621156968514,\n",
       " 1.7915412997412465,\n",
       " 1.7919388682718023,\n",
       " 1.792138300470926,\n",
       " 1.7923027665526887,\n",
       " 1.7923586969450616,\n",
       " 1.7925667032597128,\n",
       " 1.792584895123951,\n",
       " 1.7923224978859087,\n",
       " 1.7922243816159817,\n",
       " 1.792269362858549,\n",
       " 1.7923483034332637,\n",
       " 1.7921981638745956,\n",
       " 1.7919577896313117,\n",
       " 1.7918595887596924,\n",
       " 1.7917198197463486,\n",
       " 1.791699195094772,\n",
       " 1.7917699264671447,\n",
       " 1.7918352154873392,\n",
       " 1.7919425590370812,\n",
       " 1.792207505670709,\n",
       " 1.7923756089096705,\n",
       " 1.7925926969240684,\n",
       " 1.79282807499333,\n",
       " 1.7925172715772582,\n",
       " 1.791353610118637,\n",
       " 1.7885482540619875,\n",
       " 1.7883628192718986,\n",
       " 1.788450232831648,\n",
       " 1.789178039876345,\n",
       " 1.7896950465838328,\n",
       " 1.7899307641493352,\n",
       " 1.7900865810250215,\n",
       " 1.7904460285655746,\n",
       " 1.7904684273175078,\n",
       " 1.790144317342933,\n",
       " 1.7901340888249362,\n",
       " 1.7900675707608604,\n",
       " 1.7901732708443459,\n",
       " 1.790277243134301,\n",
       " 1.7904000258529045,\n",
       " 1.7903800192488486,\n",
       " 1.7901775962471915,\n",
       " 1.790198012612774,\n",
       " 1.7901961980746888,\n",
       " 1.79058795528373,\n",
       " 1.791046280047924,\n",
       " 1.7911212432858847,\n",
       " 1.7920204250784793,\n",
       " 1.793045061876858,\n",
       " 1.801459799218934,\n",
       " 1.804969158671176,\n",
       " 1.8041833365081228,\n",
       " 1.804273672935828,\n",
       " 1.8043234747038968,\n",
       " 1.8047215094502844,\n",
       " 1.8057241695812576,\n",
       " 1.8069964537710745,\n",
       " 1.8057502256726707,\n",
       " 1.8084490603406624,\n",
       " 1.8090922305283355,\n",
       " 1.809667808695179,\n",
       " 1.810105569253863,\n",
       " 1.8103310071545082,\n",
       " 1.8099771437352004,\n",
       " 1.809570130161046,\n",
       " 1.8097934725252351,\n",
       " 1.8098755153836203,\n",
       " 1.8099047453041646,\n",
       " 1.8101857356582978,\n",
       " 1.8104164878601494,\n",
       " 1.8103548212118472,\n",
       " 1.8100059812390699,\n",
       " 1.8099856944542705,\n",
       " 1.8102265745300392,\n",
       " 1.8102558390971861,\n",
       " 1.8104137843608392,\n",
       " 1.8104651213367995,\n",
       " 1.8104086315616208,\n",
       " 1.8104551252014607,\n",
       " 1.8105253811137687,\n",
       " 1.8104627314586892,\n",
       " 1.810222802119509,\n",
       " 1.809990832811234,\n",
       " 1.8097194356540671,\n",
       " 1.8096995378651761,\n",
       " 1.8096128989526528,\n",
       " 1.8096041213633567,\n",
       " 1.8092942058970924,\n",
       " 1.8092424806290086,\n",
       " 1.8091191204427974,\n",
       " 1.809154519762571,\n",
       " 1.8094600846049353,\n",
       " 1.8093616977646798,\n",
       " 1.8095681108036692,\n",
       " 1.810385281908803,\n",
       " 1.8109461786050423,\n",
       " 1.8113296787418582,\n",
       " 1.8116020596024567,\n",
       " 1.8117892086282559,\n",
       " 1.8115813732852204,\n",
       " 1.8114895666721773,\n",
       " 1.8114711705221904,\n",
       " 1.8115925862993523,\n",
       " 1.8114347234698858,\n",
       " 1.8116577558773628,\n",
       " 1.8117147420082276,\n",
       " 1.8116356910641085,\n",
       " 1.8116480972266336,\n",
       " 1.8113888756472434,\n",
       " 1.8114413520842267,\n",
       " 1.8116060336711999,\n",
       " 1.8120497815760552,\n",
       " 1.8119266397956193,\n",
       " 1.811547398862142,\n",
       " 1.811129118835265,\n",
       " 1.8104659975588087,\n",
       " 1.8098632499327767,\n",
       " 1.8096060347517582,\n",
       " 1.8095492404418052,\n",
       " 1.8094958643334476,\n",
       " 1.8103995411179097,\n",
       " 1.8069357412447689,\n",
       " 1.8037832088056147,\n",
       " 1.804692650938112,\n",
       " 1.8053758663427153,\n",
       " 1.8030757204219747,\n",
       " 1.8076219118321493,\n",
       " 1.8082063325934505,\n",
       " 1.8088800019862292,\n",
       " 1.8091840718079206,\n",
       " 1.809664204557441,\n",
       " 1.8101614020736994,\n",
       " 1.8105284581399728,\n",
       " 1.810829260701433,\n",
       " 1.810974915825645,\n",
       " 1.81094878058944,\n",
       " 1.8109368637642873,\n",
       " 1.8110621170674792,\n",
       " 1.8110828332230244,\n",
       " 1.8111391089602762,\n",
       " 1.8111940475748336,\n",
       " 1.811839018962005,\n",
       " 1.8144712047447737,\n",
       " 1.8123763332422056,\n",
       " 1.81049988898386,\n",
       " 1.809511420493345,\n",
       " 1.8093183429810056,\n",
       " 1.8090607102586482,\n",
       " 1.8089598570220256,\n",
       " 1.809106364806992,\n",
       " 1.8089246416608182,\n",
       " 1.8086292552303183,\n",
       " 1.808282017971172,\n",
       " 1.8074973997195338,\n",
       " 1.8088393012274075,\n",
       " 1.8089981148747143,\n",
       " 1.8096971883286783,\n",
       " 1.8114561437817576,\n",
       " 1.815927903124354,\n",
       " 1.7972024667733835,\n",
       " 1.7989117558223524,\n",
       " 1.7997243799379283,\n",
       " 1.7982212510044766,\n",
       " 1.798649221074606,\n",
       " 1.7993988673092807,\n",
       " 1.7995434602638187,\n",
       " 1.7988847550888423,\n",
       " 1.7987171356417744,\n",
       " 1.7987649869498619,\n",
       " 1.787807337604096,\n",
       " 1.7906824269067885,\n",
       " 1.7838453658395224,\n",
       " 1.7844390620864765,\n",
       " 1.7845233722049056,\n",
       " 1.784365004221977,\n",
       " 1.784278143731641,\n",
       " 1.784313013294178,\n",
       " 1.7843640912623087,\n",
       " 1.7856045645921832,\n",
       " 1.8295450955917167,\n",
       " 1.8216623337958877,\n",
       " 1.8206656469007232,\n",
       " 1.8201464820296374,\n",
       " 1.819098819797924,\n",
       " 1.8113369816620755,\n",
       " 1.8154959290292785,\n",
       " 1.8171444059290744,\n",
       " 1.8188865616109968,\n",
       " 1.8208315387985352,\n",
       " 1.8233182750435548,\n",
       " 1.8253498030765594,\n",
       " 1.8259003759171015,\n",
       " 1.8258457784862698,\n",
       " 1.825572484877551,\n",
       " 1.8251648522815436,\n",
       " 1.824821325487834,\n",
       " 1.8244501768663688,\n",
       " 1.8243850747487789,\n",
       " 1.82430279087629,\n",
       " 1.8242034673948737,\n",
       " 1.8241952053298383,\n",
       " 1.8244207083167299,\n",
       " 1.824793110943781,\n",
       " 1.8246942382097655,\n",
       " 1.824357837543442,\n",
       " 1.824196829156835,\n",
       " 1.824050108003684,\n",
       " 1.8247109758273674,\n",
       " 1.826765438255196,\n",
       " 1.8287309851980305,\n",
       " 1.8374774911310714,\n",
       " 1.839728128456844,\n",
       " 1.8407485975097,\n",
       " 1.8413291368370464,\n",
       " 1.8405055480588088,\n",
       " 1.83927557347508,\n",
       " 1.8385685680882704,\n",
       " 1.8383569007551224,\n",
       " 1.8382656838481282,\n",
       " 1.8383970229503837,\n",
       " 1.8382643035676791,\n",
       " 1.83808336189405,\n",
       " 1.8379198314999592,\n",
       " 1.8381416732142342,\n",
       " 1.8386631109704052,\n",
       " 1.8392380686930023,\n",
       " 1.8398393209918853,\n",
       " 1.8400293630275033,\n",
       " 1.840351097541083,\n",
       " 1.8404998506841712,\n",
       " 1.8407434300518346,\n",
       " 1.8408067396109564,\n",
       " 1.8406910236206127,\n",
       " 1.8406298861349384,\n",
       " 1.840639569280911,\n",
       " 1.8407218738601632,\n",
       " 1.8409817095423953,\n",
       " 1.841153575762748,\n",
       " 1.8412879934550863,\n",
       " 1.8403749650518604,\n",
       " 1.8401961378394223,\n",
       " 1.8408857775870033,\n",
       " 1.842042558183002,\n",
       " 1.8415520636411735,\n",
       " 1.839694032563989,\n",
       " 1.8415194073061918,\n",
       " 1.8458928995830133,\n",
       " 1.8439853374975363,\n",
       " 1.846473255277534,\n",
       " 1.8503686303447002,\n",
       " 1.8468873797887913,\n",
       " 1.843173046866049,\n",
       " 1.8411946329937754,\n",
       " 1.840903297096433,\n",
       " 1.8413918229252173,\n",
       " 1.843554675868796,\n",
       " 1.8384738663501334,\n",
       " 1.8397040759306713,\n",
       " 1.8398566321936256,\n",
       " 1.8399535501775803,\n",
       " 1.840693435795707,\n",
       " 1.8393523134747856,\n",
       " 1.8338097640266948,\n",
       " 1.8262187912357302,\n",
       " 1.8227998827348264,\n",
       " 1.8215240392645848,\n",
       " 1.8217324140242313,\n",
       " 1.8224412890613846,\n",
       " 1.8240489500050816,\n",
       " 1.8298584175110963,\n",
       " 1.8137990001658226,\n",
       " 1.8143542495675937,\n",
       " 1.8145577037253642,\n",
       " 1.8144863731718348,\n",
       " 1.8149561027394745]"
      ]
     },
     "execution_count": 7,
     "metadata": {},
     "output_type": "execute_result"
    }
   ],
   "source": [
    "asteroidAUaverage = [avg(asteroidAUList) for asteroidAUList in asteroidAU]\n",
    "asteroidAUaverage"
   ]
  },
  {
   "cell_type": "code",
   "execution_count": 93,
   "metadata": {},
   "outputs": [
    {
     "data": {
      "text/plain": [
       "array([[2, 4],\n",
       "       [7, 9]])"
      ]
     },
     "execution_count": 93,
     "metadata": {},
     "output_type": "execute_result"
    }
   ],
   "source": []
  },
  {
   "cell_type": "code",
   "execution_count": 43,
   "metadata": {},
   "outputs": [
    {
     "data": {
      "text/plain": [
       "Text(0, 0.5, 'sim.N (AU)')"
      ]
     },
     "execution_count": 43,
     "metadata": {},
     "output_type": "execute_result"
    },
    {
     "data": {
      "image/png": "[encoded data removed]",
      "text/plain": [
       "<Figure size 432x288 with 1 Axes>"
      ]
     },
     "metadata": {
      "needs_background": "light"
     },
     "output_type": "display_data"
    }
   ],
   "source": [
    "plt.clf()\n",
    "plt.plot(times, particleNumber)\n",
    "plt.title('sim.N over time')\n",
    "plt.xlabel('Time (2pi*yr)')\n",
    "plt.ylabel('sim.N (AU)')\n",
    "plt.savefig(\"Figures/\"+str(seed)+\"/particleNumber\"+addOn+\".pdf\")"
   ]
  },
  {
   "cell_type": "code",
   "execution_count": 134,
   "metadata": {},
   "outputs": [
    {
     "data": {
      "text/plain": [
       "<Figure size 432x288 with 0 Axes>"
      ]
     },
     "metadata": {},
     "output_type": "display_data"
    },
    {
     "data": {
      "text/plain": [
       "<Figure size 432x288 with 0 Axes>"
      ]
     },
     "metadata": {},
     "output_type": "display_data"
    },
    {
     "data": {
      "text/plain": [
       "<Figure size 432x288 with 0 Axes>"
      ]
     },
     "metadata": {},
     "output_type": "display_data"
    },
    {
     "data": {
      "text/plain": [
       "<Figure size 432x288 with 0 Axes>"
      ]
     },
     "metadata": {},
     "output_type": "display_data"
    },
    {
     "data": {
      "text/plain": [
       "<Figure size 432x288 with 0 Axes>"
      ]
     },
     "metadata": {},
     "output_type": "display_data"
    },
    {
     "data": {
      "text/plain": [
       "<Figure size 432x288 with 0 Axes>"
      ]
     },
     "metadata": {},
     "output_type": "display_data"
    },
    {
     "data": {
      "text/plain": [
       "<Figure size 432x288 with 0 Axes>"
      ]
     },
     "metadata": {},
     "output_type": "display_data"
    },
    {
     "data": {
      "text/plain": [
       "<Figure size 432x288 with 0 Axes>"
      ]
     },
     "metadata": {},
     "output_type": "display_data"
    },
    {
     "data": {
      "text/plain": [
       "<Figure size 432x288 with 0 Axes>"
      ]
     },
     "metadata": {},
     "output_type": "display_data"
    },
    {
     "data": {
      "text/plain": [
       "<Figure size 432x288 with 0 Axes>"
      ]
     },
     "metadata": {},
     "output_type": "display_data"
    },
    {
     "data": {
      "text/plain": [
       "<Figure size 432x288 with 0 Axes>"
      ]
     },
     "metadata": {},
     "output_type": "display_data"
    },
    {
     "data": {
      "text/plain": [
       "<Figure size 432x288 with 0 Axes>"
      ]
     },
     "metadata": {},
     "output_type": "display_data"
    },
    {
     "data": {
      "text/plain": [
       "<Figure size 432x288 with 0 Axes>"
      ]
     },
     "metadata": {},
     "output_type": "display_data"
    },
    {
     "data": {
      "text/plain": [
       "<Figure size 432x288 with 0 Axes>"
      ]
     },
     "metadata": {},
     "output_type": "display_data"
    },
    {
     "data": {
      "text/plain": [
       "<Figure size 432x288 with 0 Axes>"
      ]
     },
     "metadata": {},
     "output_type": "display_data"
    },
    {
     "data": {
      "text/plain": [
       "<Figure size 432x288 with 0 Axes>"
      ]
     },
     "metadata": {},
     "output_type": "display_data"
    },
    {
     "data": {
      "text/plain": [
       "<Figure size 432x288 with 0 Axes>"
      ]
     },
     "metadata": {},
     "output_type": "display_data"
    },
    {
     "data": {
      "text/plain": [
       "<Figure size 432x288 with 0 Axes>"
      ]
     },
     "metadata": {},
     "output_type": "display_data"
    },
    {
     "data": {
      "text/plain": [
       "<Figure size 432x288 with 0 Axes>"
      ]
     },
     "metadata": {},
     "output_type": "display_data"
    },
    {
     "data": {
      "text/plain": [
       "<Figure size 432x288 with 0 Axes>"
      ]
     },
     "metadata": {},
     "output_type": "display_data"
    },
    {
     "data": {
      "text/plain": [
       "<Figure size 432x288 with 0 Axes>"
      ]
     },
     "metadata": {},
     "output_type": "display_data"
    },
    {
     "data": {
      "text/plain": [
       "<Figure size 432x288 with 0 Axes>"
      ]
     },
     "metadata": {},
     "output_type": "display_data"
    },
    {
     "data": {
      "text/plain": [
       "<Figure size 432x288 with 0 Axes>"
      ]
     },
     "metadata": {},
     "output_type": "display_data"
    },
    {
     "data": {
      "text/plain": [
       "<Figure size 432x288 with 0 Axes>"
      ]
     },
     "metadata": {},
     "output_type": "display_data"
    },
    {
     "data": {
      "text/plain": [
       "<Figure size 432x288 with 0 Axes>"
      ]
     },
     "metadata": {},
     "output_type": "display_data"
    },
    {
     "data": {
      "text/plain": [
       "<Figure size 432x288 with 0 Axes>"
      ]
     },
     "metadata": {},
     "output_type": "display_data"
    },
    {
     "data": {
      "text/plain": [
       "<Figure size 432x288 with 0 Axes>"
      ]
     },
     "metadata": {},
     "output_type": "display_data"
    },
    {
     "data": {
      "text/plain": [
       "<Figure size 432x288 with 0 Axes>"
      ]
     },
     "metadata": {},
     "output_type": "display_data"
    },
    {
     "data": {
      "text/plain": [
       "<Figure size 432x288 with 0 Axes>"
      ]
     },
     "metadata": {},
     "output_type": "display_data"
    },
    {
     "data": {
      "text/plain": [
       "<Figure size 432x288 with 0 Axes>"
      ]
     },
     "metadata": {},
     "output_type": "display_data"
    },
    {
     "data": {
      "text/plain": [
       "<Figure size 432x288 with 0 Axes>"
      ]
     },
     "metadata": {},
     "output_type": "display_data"
    },
    {
     "data": {
      "text/plain": [
       "<Figure size 432x288 with 0 Axes>"
      ]
     },
     "metadata": {},
     "output_type": "display_data"
    },
    {
     "data": {
      "text/plain": [
       "<Figure size 432x288 with 0 Axes>"
      ]
     },
     "metadata": {},
     "output_type": "display_data"
    },
    {
     "data": {
      "text/plain": [
       "<Figure size 432x288 with 0 Axes>"
      ]
     },
     "metadata": {},
     "output_type": "display_data"
    },
    {
     "data": {
      "text/plain": [
       "<Figure size 432x288 with 0 Axes>"
      ]
     },
     "metadata": {},
     "output_type": "display_data"
    },
    {
     "data": {
      "text/plain": [
       "<Figure size 432x288 with 0 Axes>"
      ]
     },
     "metadata": {},
     "output_type": "display_data"
    },
    {
     "data": {
      "text/plain": [
       "<Figure size 432x288 with 0 Axes>"
      ]
     },
     "metadata": {},
     "output_type": "display_data"
    },
    {
     "data": {
      "text/plain": [
       "<Figure size 432x288 with 0 Axes>"
      ]
     },
     "metadata": {},
     "output_type": "display_data"
    },
    {
     "data": {
      "text/plain": [
       "<Figure size 432x288 with 0 Axes>"
      ]
     },
     "metadata": {},
     "output_type": "display_data"
    },
    {
     "data": {
      "text/plain": [
       "<Figure size 432x288 with 0 Axes>"
      ]
     },
     "metadata": {},
     "output_type": "display_data"
    },
    {
     "data": {
      "text/plain": [
       "<Figure size 432x288 with 0 Axes>"
      ]
     },
     "metadata": {},
     "output_type": "display_data"
    },
    {
     "data": {
      "text/plain": [
       "<Figure size 432x288 with 0 Axes>"
      ]
     },
     "metadata": {},
     "output_type": "display_data"
    },
    {
     "data": {
      "text/plain": [
       "<Figure size 432x288 with 0 Axes>"
      ]
     },
     "metadata": {},
     "output_type": "display_data"
    },
    {
     "data": {
      "text/plain": [
       "<Figure size 432x288 with 0 Axes>"
      ]
     },
     "metadata": {},
     "output_type": "display_data"
    },
    {
     "data": {
      "text/plain": [
       "<Figure size 432x288 with 0 Axes>"
      ]
     },
     "metadata": {},
     "output_type": "display_data"
    },
    {
     "data": {
      "text/plain": [
       "<Figure size 432x288 with 0 Axes>"
      ]
     },
     "metadata": {},
     "output_type": "display_data"
    },
    {
     "data": {
      "text/plain": [
       "<Figure size 432x288 with 0 Axes>"
      ]
     },
     "metadata": {},
     "output_type": "display_data"
    },
    {
     "data": {
      "text/plain": [
       "<Figure size 432x288 with 0 Axes>"
      ]
     },
     "metadata": {},
     "output_type": "display_data"
    },
    {
     "data": {
      "text/plain": [
       "<Figure size 432x288 with 0 Axes>"
      ]
     },
     "metadata": {},
     "output_type": "display_data"
    },
    {
     "data": {
      "text/plain": [
       "<Figure size 432x288 with 0 Axes>"
      ]
     },
     "metadata": {},
     "output_type": "display_data"
    },
    {
     "data": {
      "text/plain": [
       "<Figure size 432x288 with 0 Axes>"
      ]
     },
     "metadata": {},
     "output_type": "display_data"
    },
    {
     "data": {
      "text/plain": [
       "<Figure size 432x288 with 0 Axes>"
      ]
     },
     "metadata": {},
     "output_type": "display_data"
    },
    {
     "data": {
      "text/plain": [
       "<Figure size 432x288 with 0 Axes>"
      ]
     },
     "metadata": {},
     "output_type": "display_data"
    },
    {
     "data": {
      "text/plain": [
       "<Figure size 432x288 with 0 Axes>"
      ]
     },
     "metadata": {},
     "output_type": "display_data"
    },
    {
     "data": {
      "text/plain": [
       "<Figure size 432x288 with 0 Axes>"
      ]
     },
     "metadata": {},
     "output_type": "display_data"
    },
    {
     "data": {
      "text/plain": [
       "<Figure size 432x288 with 0 Axes>"
      ]
     },
     "metadata": {},
     "output_type": "display_data"
    },
    {
     "data": {
      "text/plain": [
       "<Figure size 432x288 with 0 Axes>"
      ]
     },
     "metadata": {},
     "output_type": "display_data"
    },
    {
     "data": {
      "text/plain": [
       "<Figure size 432x288 with 0 Axes>"
      ]
     },
     "metadata": {},
     "output_type": "display_data"
    },
    {
     "data": {
      "text/plain": [
       "<Figure size 432x288 with 0 Axes>"
      ]
     },
     "metadata": {},
     "output_type": "display_data"
    },
    {
     "data": {
      "text/plain": [
       "<Figure size 432x288 with 0 Axes>"
      ]
     },
     "metadata": {},
     "output_type": "display_data"
    },
    {
     "data": {
      "text/plain": [
       "<Figure size 432x288 with 0 Axes>"
      ]
     },
     "metadata": {},
     "output_type": "display_data"
    },
    {
     "data": {
      "text/plain": [
       "<Figure size 432x288 with 0 Axes>"
      ]
     },
     "metadata": {},
     "output_type": "display_data"
    },
    {
     "data": {
      "text/plain": [
       "<Figure size 432x288 with 0 Axes>"
      ]
     },
     "metadata": {},
     "output_type": "display_data"
    },
    {
     "data": {
      "text/plain": [
       "<Figure size 432x288 with 0 Axes>"
      ]
     },
     "metadata": {},
     "output_type": "display_data"
    },
    {
     "data": {
      "text/plain": [
       "<Figure size 432x288 with 0 Axes>"
      ]
     },
     "metadata": {},
     "output_type": "display_data"
    },
    {
     "data": {
      "text/plain": [
       "<Figure size 432x288 with 0 Axes>"
      ]
     },
     "metadata": {},
     "output_type": "display_data"
    },
    {
     "data": {
      "text/plain": [
       "<Figure size 432x288 with 0 Axes>"
      ]
     },
     "metadata": {},
     "output_type": "display_data"
    },
    {
     "data": {
      "text/plain": [
       "<Figure size 432x288 with 0 Axes>"
      ]
     },
     "metadata": {},
     "output_type": "display_data"
    },
    {
     "data": {
      "text/plain": [
       "<Figure size 432x288 with 0 Axes>"
      ]
     },
     "metadata": {},
     "output_type": "display_data"
    },
    {
     "data": {
      "text/plain": [
       "<Figure size 432x288 with 0 Axes>"
      ]
     },
     "metadata": {},
     "output_type": "display_data"
    },
    {
     "data": {
      "text/plain": [
       "<Figure size 432x288 with 0 Axes>"
      ]
     },
     "metadata": {},
     "output_type": "display_data"
    },
    {
     "data": {
      "text/plain": [
       "<Figure size 432x288 with 0 Axes>"
      ]
     },
     "metadata": {},
     "output_type": "display_data"
    },
    {
     "data": {
      "text/plain": [
       "<Figure size 432x288 with 0 Axes>"
      ]
     },
     "metadata": {},
     "output_type": "display_data"
    },
    {
     "data": {
      "text/plain": [
       "<Figure size 432x288 with 0 Axes>"
      ]
     },
     "metadata": {},
     "output_type": "display_data"
    },
    {
     "data": {
      "text/plain": [
       "<Figure size 432x288 with 0 Axes>"
      ]
     },
     "metadata": {},
     "output_type": "display_data"
    },
    {
     "data": {
      "text/plain": [
       "<Figure size 432x288 with 0 Axes>"
      ]
     },
     "metadata": {},
     "output_type": "display_data"
    },
    {
     "data": {
      "text/plain": [
       "<Figure size 432x288 with 0 Axes>"
      ]
     },
     "metadata": {},
     "output_type": "display_data"
    },
    {
     "data": {
      "text/plain": [
       "<Figure size 432x288 with 0 Axes>"
      ]
     },
     "metadata": {},
     "output_type": "display_data"
    },
    {
     "data": {
      "text/plain": [
       "<Figure size 432x288 with 0 Axes>"
      ]
     },
     "metadata": {},
     "output_type": "display_data"
    },
    {
     "data": {
      "text/plain": [
       "<Figure size 432x288 with 0 Axes>"
      ]
     },
     "metadata": {},
     "output_type": "display_data"
    },
    {
     "data": {
      "text/plain": [
       "<Figure size 432x288 with 0 Axes>"
      ]
     },
     "metadata": {},
     "output_type": "display_data"
    },
    {
     "data": {
      "text/plain": [
       "<Figure size 432x288 with 0 Axes>"
      ]
     },
     "metadata": {},
     "output_type": "display_data"
    },
    {
     "data": {
      "text/plain": [
       "<Figure size 432x288 with 0 Axes>"
      ]
     },
     "metadata": {},
     "output_type": "display_data"
    },
    {
     "data": {
      "text/plain": [
       "<Figure size 432x288 with 0 Axes>"
      ]
     },
     "metadata": {},
     "output_type": "display_data"
    },
    {
     "data": {
      "text/plain": [
       "<Figure size 432x288 with 0 Axes>"
      ]
     },
     "metadata": {},
     "output_type": "display_data"
    },
    {
     "data": {
      "text/plain": [
       "<Figure size 432x288 with 0 Axes>"
      ]
     },
     "metadata": {},
     "output_type": "display_data"
    },
    {
     "data": {
      "text/plain": [
       "<Figure size 432x288 with 0 Axes>"
      ]
     },
     "metadata": {},
     "output_type": "display_data"
    },
    {
     "data": {
      "text/plain": [
       "<Figure size 432x288 with 0 Axes>"
      ]
     },
     "metadata": {},
     "output_type": "display_data"
    },
    {
     "data": {
      "text/plain": [
       "<Figure size 432x288 with 0 Axes>"
      ]
     },
     "metadata": {},
     "output_type": "display_data"
    },
    {
     "data": {
      "text/plain": [
       "<Figure size 432x288 with 0 Axes>"
      ]
     },
     "metadata": {},
     "output_type": "display_data"
    },
    {
     "data": {
      "text/plain": [
       "<Figure size 432x288 with 0 Axes>"
      ]
     },
     "metadata": {},
     "output_type": "display_data"
    },
    {
     "data": {
      "text/plain": [
       "<Figure size 432x288 with 0 Axes>"
      ]
     },
     "metadata": {},
     "output_type": "display_data"
    },
    {
     "data": {
      "text/plain": [
       "<Figure size 432x288 with 0 Axes>"
      ]
     },
     "metadata": {},
     "output_type": "display_data"
    },
    {
     "data": {
      "text/plain": [
       "<Figure size 432x288 with 0 Axes>"
      ]
     },
     "metadata": {},
     "output_type": "display_data"
    },
    {
     "data": {
      "text/plain": [
       "<Figure size 432x288 with 0 Axes>"
      ]
     },
     "metadata": {},
     "output_type": "display_data"
    },
    {
     "data": {
      "text/plain": [
       "<Figure size 432x288 with 0 Axes>"
      ]
     },
     "metadata": {},
     "output_type": "display_data"
    },
    {
     "data": {
      "text/plain": [
       "<Figure size 432x288 with 0 Axes>"
      ]
     },
     "metadata": {},
     "output_type": "display_data"
    },
    {
     "data": {
      "text/plain": [
       "<Figure size 432x288 with 0 Axes>"
      ]
     },
     "metadata": {},
     "output_type": "display_data"
    },
    {
     "data": {
      "text/plain": [
       "<Figure size 432x288 with 0 Axes>"
      ]
     },
     "metadata": {},
     "output_type": "display_data"
    },
    {
     "data": {
      "text/plain": [
       "<Figure size 432x288 with 0 Axes>"
      ]
     },
     "metadata": {},
     "output_type": "display_data"
    },
    {
     "data": {
      "text/plain": [
       "<Figure size 432x288 with 0 Axes>"
      ]
     },
     "metadata": {},
     "output_type": "display_data"
    }
   ],
   "source": [
    "def animate(N, T, sim): #this makes an animation of a system over time\n",
    "    sim.integrate(0)\n",
    "    interval = T/N\n",
    "    from IPython.display import display, clear_output\n",
    "    import matplotlib.pyplot as plt\n",
    "    sim.move_to_com()\n",
    "    end_timestep = N\n",
    "    print ('The timestep is ', interval, 'years.')\n",
    "    #stop = input('Is this suitable? (y/n)')\n",
    "    #if stop == 'n':\n",
    "        #sys.exit(\"Enter a higher N for a lower interval.\")\n",
    "    for i in range(N+1):\n",
    "        sim.integrate(sim.t+interval)\n",
    "        #fig, ax = rebound.OrbitPlot(sim,color=True,orbit_type='solid', unitlabel=\"[AU]\",xlim=[-5,5],ylim=[-5,5])\n",
    "        quickplot(sim)\n",
    "        display()\n",
    "        print (i, \"timesteps,\", i*interval, \"years\")\n",
    "        print(\"The interval is\", interval, 'years.')\n",
    "        \"\"\"if i == end_timestep/2:\n",
    "            print(\"The current timestep is\", i, \". This is a time of\", i*interval,\"years.\")\n",
    "            tf = input(\"Would you like to continue? (y/n)\")\n",
    "            if tf == 'n':\n",
    "                break\"\"\" #I use these lines if I'm worried the total time is too high\n",
    "        #plt.close(fig)\n",
    "        plt.clf()\n",
    "        clear_output(wait=True)\n",
    "sim = generatettor(simulation = ttor,seed = None, asteroidnumber = 100)\n",
    "animate(100,10, sim)"
   ]
  },
  {
   "cell_type": "code",
   "execution_count": 206,
   "metadata": {},
   "outputs": [
    {
     "data": {
      "text/plain": [
       "Text(0, 0.5, 'Eccentricity')"
      ]
     },
     "execution_count": 206,
     "metadata": {},
     "output_type": "execute_result"
    },
    {
     "data": {
      "image/png": "[encoded data removed]",
      "text/plain": [
       "<Figure size 432x288 with 1 Axes>"
      ]
     },
     "metadata": {
      "needs_background": "light"
     },
     "output_type": "display_data"
    }
   ],
   "source": [
    "plt.clf()\n",
    "plt.plot([i/tau for i in times], eccs)\n",
    "plt.title('Eccentricity Over Time')\n",
    "plt.xlabel('Time (2pi*yr)')\n",
    "plt.ylabel('Eccentricity')"
   ]
  },
  {
   "cell_type": "code",
   "execution_count": 4,
   "metadata": {},
   "outputs": [
    {
     "data": {
      "text/plain": [
       "True"
      ]
     },
     "execution_count": 4,
     "metadata": {},
     "output_type": "execute_result"
    }
   ],
   "source": [
    "import os.path\n",
    "os.path.isfile(\"Masslists/appendTest.txt\")"
   ]
  },
  {
   "cell_type": "code",
   "execution_count": null,
   "metadata": {},
   "outputs": [],
   "source": [
    "import os.path\n",
    "os.path.isfile(fname)"
   ]
  },
  {
   "cell_type": "code",
   "execution_count": 34,
   "metadata": {},
   "outputs": [
    {
     "data": {
      "text/plain": [
       "array([[-1., -1., -1.],\n",
       "       [-1., -1., -1.]])"
      ]
     },
     "execution_count": 34,
     "metadata": {},
     "output_type": "execute_result"
    }
   ],
   "source": [
    "np.negative(np.ones((2,3)))"
   ]
  },
  {
   "cell_type": "code",
   "execution_count": 35,
   "metadata": {},
   "outputs": [
    {
     "data": {
      "text/plain": [
       "array([[1., 1., 1.],\n",
       "       [1., 1., 1.]])"
      ]
     },
     "execution_count": 35,
     "metadata": {},
     "output_type": "execute_result"
    }
   ],
   "source": [
    "np.ones((2,3))"
   ]
  },
  {
   "cell_type": "code",
   "execution_count": null,
   "metadata": {},
   "outputs": [],
   "source": []
  }
 ],
 "metadata": {
  "kernelspec": {
   "display_name": "Python 3",
   "language": "python",
   "name": "python3"
  },
  "language_info": {
   "codemirror_mode": {
    "name": "ipython",
    "version": 3
   },
   "file_extension": ".py",
   "mimetype": "text/x-python",
   "name": "python",
   "nbconvert_exporter": "python",
   "pygments_lexer": "ipython3",
   "version": "3.8.8"
  }
 },
 "nbformat": 4,
 "nbformat_minor": 2
}
