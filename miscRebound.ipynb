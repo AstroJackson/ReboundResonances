{
 "cells": [
  {
   "cell_type": "code",
   "execution_count": 8,
   "metadata": {},
   "outputs": [],
   "source": [
    "#I run this cell whenever I lode up this file\n",
    "import rebound\n",
    "#help(rebound)\n",
    "import numpy as np\n",
    "import matplotlib as plt\n",
    "import matplotlib.pyplot as plt\n",
    "import scipy\n",
    "import sys\n",
    "\n",
    "def ttor(): #two to one resonance\n",
    "    sim = rebound.Simulation()\n",
    "    sim.units = ('yr', 'AU', 'Msun') #sets G=4pi^2 so AU, earth years, solar masses\n",
    "    sim.add(m=1) #creates a star of mass 1\n",
    "    sim.add(m=1e-3, x=1, vy=6.286207389817359)  #creates a planet with mass 0.001 at 1 AU\n",
    "    sim.add(m=1e-3, x=-2**(2/3), vy=-4.998137607955951) #use .1 mass to show the planets having a large effect on each other\n",
    "    return sim\n",
    "sim2 = ttor()\n",
    "\n",
    "def moonsetup(): #this defines a function to give a solar mass star with a planet that has a moon\n",
    "    sim = rebound.Simulation()\n",
    "    sim.units = ('yr', 'AU', 'Msun') #sets G=4pi^2 so AU, earth years, solar masses\n",
    "    sim.add(m=1) #creates a star of mass 1\n",
    "    sim.add(m=1e-1, x=1, vy=6)  #creates a planet with mass 0.001 at 1 AU\n",
    "    sim.add(m=1e-3, x=1.05, vy=7.8)\n",
    "    return sim\n",
    "sim1 = moonsetup()\n",
    "\n",
    "def vis2(t):\n",
    "    sim2.integrate(t)\n",
    "    rebound.OrbitPlot(sim2,slices=0.3,color=True)\n",
    "    sim2.status()\n",
    "    \n",
    "def vis(system, t):\n",
    "    system.integrate(t)\n",
    "    rebound.OrbitPlot(system,slices=0.3,color=True)\n",
    "    #system.status()\n",
    "    \n",
    "def system13(): #two planets, at 1 and 3 AU\n",
    "    sim = rebound.Simulation()\n",
    "    sim.units = ('yr', 'AU', 'Msun') #sets G=4pi^2 so AU, earth years, solar masses\n",
    "    sim.add(m=1) #creates a star of mass 1\n",
    "    sim.add(m=1e-3, a=1)  #creates a planet with mass 0.001 at 1 AU\n",
    "    sim.add(m=1e-3, a=3, f=np.pi)  #creates a planet with mass 0.001 at 3 AU\n",
    "                                   #f is the starting angle\n",
    "    return sim\n",
    "\n",
    "def a1po(N): #asteroids with 1 planet, the asteroid are outside of the planetary orbit\n",
    "             #N is the number of test particles\n",
    "    sim = rebound.Simulation()\n",
    "    sim.units = ('yr', 'AU', 'Msun') #sets G=4pi^2 so AU, earth years, solar masses\n",
    "    sim.add(m=1)\n",
    "    sim.add(m=1e-3, a=1)\n",
    "    particlesAU = np.linspace(1.1, 3, N)\n",
    "    for i in particlesAU:\n",
    "        sim.add(a=i, f=np.random.rand()*2*np.pi)\n",
    "    return sim\n",
    "simast = a1po(5)\n",
    "\n",
    "def animate(N, T, sim):\n",
    "    sim.integrate(0)\n",
    "    interval = T/N\n",
    "    from IPython.display import display, clear_output\n",
    "    import matplotlib.pyplot as plt\n",
    "    sim.move_to_com()\n",
    "    end_timestep = N\n",
    "    print ('The timestep is ', interval, 'years.')\n",
    "    #stop = input('Is this suitable? (y/n)')\n",
    "    #if stop == 'n':\n",
    "        #sys.exit(\"Enter a higher N for a lower interval.\")\n",
    "    for i in range(N+1):\n",
    "        sim.integrate(sim.t+interval)\n",
    "        fig, ax = rebound.OrbitPlot(sim,color=True,orbit_type='solid', unitlabel=\"[AU]\",xlim=[-5,5],ylim=[-5,5])\n",
    "        display(fig)\n",
    "        print (i, \"timesteps,\", i*interval, \"years\")\n",
    "        print(\"The interval is\", interval, 'years.')\n",
    "        \"\"\"if i == end_timestep/2:\n",
    "            print(\"The current timestep is\", i, \". This is a time of\", i*interval,\"years.\")\n",
    "            tf = input(\"Would you like to continue? (y/n)\")\n",
    "            if tf == 'n':\n",
    "                break\"\"\" #I use these lines if I'm worried the total time is too high\n",
    "        plt.close(fig)\n",
    "        clear_output(wait=True)\n",
    "        \n",
    "def quickplot(sim): #this uses matplotlib to plot the orbit, instead of rebound\n",
    "    coords = np.zeros((2,sim.N))\n",
    "    for i in range(sim.N):\n",
    "        coords[0][i], coords[1][i] = sim.particles[i].x, sim.particles[i].y\n",
    "    fig, ax = plt.subplots()\n",
    "    ax.axis('equal')\n",
    "    ax.scatter(coords[0],coords[1])\n",
    "    ax.scatter(sim.particles[1].x,sim.particles[1].y); # Planet"
   ]
  },
  {
   "cell_type": "code",
   "execution_count": 3,
   "metadata": {},
   "outputs": [],
   "source": [
    "def backup(sim): #converts a simulation into an array to store the information\n",
    "    backupinfo = np.zeros((sim.N,7))\n",
    "    for i in range(sim.N):\n",
    "        sp = sim.particles\n",
    "        backupinfo[i,0] = sp[i].m\n",
    "        backupinfo[i,1] = sp[i].x\n",
    "        backupinfo[i,2] = sp[i].y\n",
    "        backupinfo[i,3] = sp[i].z\n",
    "        backupinfo[i,4] = sp[i].vx\n",
    "        backupinfo[i,5] = sp[i].vy\n",
    "        backupinfo[i,6] = sp[i].vz\n",
    "    return backupinfo #then copy and paste into the next cell, \n",
    "                      #so restarting the kernel doesn't lose it"
   ]
  },
  {
   "cell_type": "code",
   "execution_count": 4,
   "metadata": {},
   "outputs": [],
   "source": [
    "astbackupinfo = np.array([[ 1.00000000e+00,  0.00000000e+00,  0.00000000e+00,\n",
    "         0.00000000e+00,  0.00000000e+00,  0.00000000e+00,\n",
    "         0.00000000e+00],\n",
    "       [ 1.00000000e-03,  1.00000000e+00,  0.00000000e+00,\n",
    "         0.00000000e+00,  0.00000000e+00,  6.28620739e+00,\n",
    "         0.00000000e+00],\n",
    "       [ 0.00000000e+00,  6.28578954e-01, -9.03406554e-01,\n",
    "         0.00000000e+00,  4.92246814e+00,  3.42582820e+00,\n",
    "         0.00000000e+00],\n",
    "       [ 0.00000000e+00,  1.41744797e+00, -6.88692480e-01,\n",
    "         0.00000000e+00,  2.19024758e+00,  4.51101027e+00,\n",
    "         0.00000000e+00],\n",
    "       [ 0.00000000e+00,  9.39517273e-01, -1.82254861e+00,\n",
    "         0.00000000e+00,  3.90334587e+00,  2.01630116e+00,\n",
    "         0.00000000e+00],\n",
    "       [ 0.00000000e+00,  2.06023678e+00, -1.46122030e+00,\n",
    "         0.00000000e+00,  2.28935071e+00,  3.23256790e+00,\n",
    "         0.00000000e+00],\n",
    "       [ 0.00000000e+00,  1.28665819e+00, -2.71054984e+00,\n",
    "         0.00000000e+00,  3.27917218e+00,  1.56164622e+00,\n",
    "         0.00000000e+00]])"
   ]
  },
  {
   "cell_type": "code",
   "execution_count": 5,
   "metadata": {},
   "outputs": [],
   "source": [
    "def backupcopy(bp): #this coverts the array copy into a simulation.\n",
    "                    #this is the 'inverse' of backup(). \n",
    "    sim = rebound.Simulation()\n",
    "    sim.units = ('yr', 'AU', 'Msun') #sets G=4pi^2 so AU, earth years, solar masses\n",
    "    for i in range(len(bp)):\n",
    "        sim.add(m=bp[i,0], x=bp[i,1], y=bp[i,2], z=bp[i,3], vx=bp[i,4], \\\n",
    "                vy=bp[i,5], vz=bp[i,6])\n",
    "    return sim"
   ]
  },
  {
   "cell_type": "code",
   "execution_count": 23,
   "metadata": {},
   "outputs": [],
   "source": [
    "testlist = [['inner planet mass', 'outer planet mass', 'seed'], [0.002190000000000003, 0.0022800000000000034, 0], [0.002190000000000003, 0.002470000000000004, 1], [0.0023200000000000035, 0.0022900000000000034, 2], [0.0024100000000000037, 0.002590000000000004, 3], [0.0022900000000000034, 0.002540000000000004, 4], [0.002440000000000004, 0.002490000000000004, 5], [0.0023800000000000036, 0.002190000000000003, 6], [0.0022400000000000033, 0.0024000000000000037, 7], [0.002450000000000004, 0.002470000000000004, 8], [0.0023900000000000037, 0.002550000000000004, 9]]\n",
    "def masslist_txt(lst,sim = None):\n",
    "    def avg(listt):\n",
    "        sum = 0\n",
    "        for i in listt:\n",
    "            sum += i\n",
    "        return sum / len(listt)\n",
    "    message = ''\n",
    "    \n",
    "    for i in lst[3:]:\n",
    "        i.insert(place,new)\n",
    "        for j in i:\n",
    "            message += str(j)\n",
    "            message +='\\t'\n",
    "        message +='\\n'\n",
    "    message +='\\n'\n",
    "    with open('planetmasses1.txt','a') as file:\n",
    "        file.write(sim+'\\n')\n",
    "        file.write(\"Inner planet mass\\tOuter planet mass\\tPercent Difference\\tSeed\\n\")\n",
    "        file.write(message)\n",
    "masslist_txt(testlist,'ttor')"
   ]
  },
  {
   "cell_type": "code",
   "execution_count": 1,
   "metadata": {},
   "outputs": [],
   "source": [
    "testlist = [['inner planet mass', 'outer planet mass', 'seed'], [0.002190000000000003, 0.0022800000000000034, 0], [0.002190000000000003, 0.002470000000000004, 1], [0.0023200000000000035, 0.0022900000000000034, 2], [0.0024100000000000037, 0.002590000000000004, 3], [0.0022900000000000034, 0.002540000000000004, 4], [0.002440000000000004, 0.002490000000000004, 5], [0.0023800000000000036, 0.002190000000000003, 6], [0.0022400000000000033, 0.0024000000000000037, 7], [0.002450000000000004, 0.002470000000000004, 8], [0.0023900000000000037, 0.002550000000000004, 9]]\n",
    "def masslist_txt(masslist,sim = None,write_type = 'a'):\n",
    "    \"\"\"\n",
    "    Saves the masslists into a formatted txt file.\n",
    "    \"\"\"\n",
    "    \n",
    "    def avg(listt):\n",
    "        sum = 0\n",
    "        for i in listt:\n",
    "            sum += i\n",
    "        return sum / len(listt)\n",
    "\n",
    "    masslistcopy = masslist.copy() # Don't want to edit the original data\n",
    "    percentlist = list()\n",
    "    message = ''\n",
    "    message+=\"Inner planet mass\\tOuter planet mass\\tPercent Difference\\tSeed\\n\"\n",
    "    for data in masslistcopy[1:]:\n",
    "        percentdif = abs((data[0]-data[1])/data[0])*100\n",
    "        roundedpercentdif = round(percentdif,2)\n",
    "        percentlist.append(percentdif)\n",
    "        data.insert(2,percentdif)\n",
    "        for j in data:\n",
    "            message += str(j)\n",
    "            message +='\\t'\n",
    "        message +='\\n'   \n",
    "    message+= \"\\nAverage percent difference= {}.\\n\\n\".format(avg(percentlist))\n",
    "    with open('planetmasses2.txt',write_type) as file:\n",
    "        file.write(sim+'\\n')\n",
    "        file.write(message)\n",
    "masslist_txt(testlist,'ttor','w')"
   ]
  },
  {
   "cell_type": "code",
   "execution_count": 93,
   "metadata": {},
   "outputs": [
    {
     "name": "stdout",
     "output_type": "stream",
     "text": [
      "[[[0.002190000000000003, 0.0022800000000000034, 4.109589041095895, 0.0]], [[0.002190000000000003, 0.002470000000000004, 12.785388127853897, 1.0]], [[0.0023200000000000035, 0.0022900000000000034, 1.2931034482758634, 2.0]], [[0.0024100000000000037, 0.002590000000000004, 7.468879668049801, 3.0]], [[0.0022900000000000034, 0.002540000000000004, 10.917030567685602, 4.0]], [[0.002440000000000004, 0.002490000000000004, 2.0491803278688545, 5.0]], [[0.0023800000000000036, 0.002190000000000003, 7.983193277310933, 6.0]], [[0.0022400000000000033, 0.0024000000000000037, 7.142857142857151, 7.0]], [[0.002450000000000004, 0.002470000000000004, 0.8163265306122458, 8.0]], [[0.0023900000000000037, 0.002550000000000004, 6.694560669456075, 9.0]], [['Average', 'percent', 'difference=', '6.126010880106632.']]]\n"
     ]
    }
   ],
   "source": [
    "ttortest = []\n",
    "def masslist_read(finalList,file):\n",
    "    \"\"\"\n",
    "    Inverse of masslist_txt()\n",
    "    \"\"\"\n",
    "    with open(file,'r') as datafile:\n",
    "        contents = datafile.read()\n",
    "        contents = contents.split()[10:]\n",
    "    for index,value in enumerate(contents):\n",
    "        try:\n",
    "            value = float(value)\n",
    "            contents[index] = value\n",
    "        except:\n",
    "            pass\n",
    "    for i in range(0,int(len(contents)), 4):\n",
    "        finalList.append([contents[i:i+4]])\n",
    "masslist_read(ttortest,'planetmasses2.txt')\n",
    "print(ttortest)"
   ]
  },
  {
   "cell_type": "code",
   "execution_count": null,
   "metadata": {},
   "outputs": [],
   "source": [
    "def avg(listt):\n",
    "    sum = 0\n",
    "    for i in listt:\n",
    "        sum += i\n",
    "    return sum / len(listt)\n",
    "def listmasses(masslist):\n",
    "    percentlist = list()\n",
    "    print( 'inner planet mass |', 'outer planet mass |', 'percent difference |', 'seed')\n",
    "    for data in masslist:\n",
    "        if type(data[0]) == str:\n",
    "            continue\n",
    "        percentdif = abs((data[0]-data[1])/data[0])*100\n",
    "        roundedpercentdif = round(percentdif,2)\n",
    "        percentlist.append(percentdif)\n",
    "        print(round(1e5*data[0]),'              |',round(1e5*data[1]),\\\n",
    "              '              |', roundedpercentdif,'              |' ,data[2])\n",
    "    print(\"\\nAverage percent difference = {}.\".format(avg(percentlist)))\n",
    "\n",
    "print(\"One planet mass is 1e-3 the mass of the Sun. The planets started at 100 asteroid masses.\\nThe asteroids had a mass of 1e-5.\\n\")\n",
    "print(\"ttor:\")\n",
    "listmasses(ttor_masses)\n",
    "print(\"\\ntttr:\")\n",
    "listmasses(tttr_masses)\n",
    "print(\"\\nnor:\")\n",
    "listmasses(nor_masses)"
   ]
  },
  {
   "cell_type": "markdown",
   "metadata": {},
   "source": [
    "https://matplotlib.org/stable/api/_as_gen/matplotlib.pyplot.plot.html#matplotlib.pyplot.plot\n",
    "Helpful stuff for graphing"
   ]
  },
  {
   "cell_type": "code",
   "execution_count": 7,
   "metadata": {},
   "outputs": [
    {
     "name": "stdout",
     "output_type": "stream",
     "text": [
      "hi\n"
     ]
    }
   ],
   "source": [
    "print(\"hi\")"
   ]
  },
  {
   "cell_type": "code",
   "execution_count": 4,
   "metadata": {},
   "outputs": [],
   "source": [
    "#test on linux"
   ]
  },
  {
   "cell_type": "code",
   "execution_count": 33,
   "metadata": {},
   "outputs": [
    {
     "name": "stdout",
     "output_type": "stream",
     "text": [
      "[['inner planet mass', 'outer planet mass', 'seed'], [0.002190000000000003, 0.0022800000000000034, 0], [0.002190000000000003, 0.002470000000000004, 1], [0.0023200000000000035, 0.0022900000000000034, 2], [0.0024100000000000037, 0.002590000000000004, 3], [0.0022900000000000034, 0.002540000000000004, 4], [0.002440000000000004, 0.002490000000000004, 5], [0.0023800000000000036, 0.002190000000000003, 6], [0.0022400000000000033, 0.0024000000000000037, 7], [0.002450000000000004, 0.002470000000000004, 8], [0.0023900000000000037, 0.002550000000000004, 9]]\n"
     ]
    }
   ],
   "source": [
    "testlist = [['inner planet mass', 'outer planet mass', 'seed'], [0.002190000000000003, 0.0022800000000000034, 0], [0.002190000000000003, 0.002470000000000004, 1], [0.0023200000000000035, 0.0022900000000000034, 2], [0.0024100000000000037, 0.002590000000000004, 3], [0.0022900000000000034, 0.002540000000000004, 4], [0.002440000000000004, 0.002490000000000004, 5], [0.0023800000000000036, 0.002190000000000003, 6], [0.0022400000000000033, 0.0024000000000000037, 7], [0.002450000000000004, 0.002470000000000004, 8], [0.0023900000000000037, 0.002550000000000004, 9]]\n",
    "testlist1 = [['inner planet mass', 'outer planet mass', 'seed'], [0.002190000000000003, 0.0022800000000000034, 0]]\n",
    "testlist2 = [['inner planet mass', 'outer planet mass', 'seed'],[0.002190000000000003, 0.002470000000000004, 1]]\n",
    "testlist3 = [['inner planet mass', 'outer planet mass', 'seed'],[0.0023200000000000035, 0.0022900000000000034, 2]]\n",
    "print(testlist)\n",
    "def masslist_txt_append(masslist,sim = None,write_type = 'a', **kwargs):\n",
    "    \"\"\"\n",
    "    Saves the masslists into a formatted txt file. This is similar to masslist_txt except \n",
    "    it lends itself better to appending.\n",
    "    \"\"\"\n",
    "    \n",
    "    def avg(listt):\n",
    "        sum = 0\n",
    "        for i in listt:\n",
    "            sum += i\n",
    "        return sum / len(listt)\n",
    "    \n",
    "    masslistcopy = masslist.copy() # Don't want to edit the original data\n",
    "    global percentlist\n",
    "    message = ''\n",
    "    if kwargs.get('first'): \n",
    "        percentlist = list()\n",
    "        message += sim+'\\n'\n",
    "        message+=\"Inner planet mass\\tOuter planet mass\\tPercent Difference\\tSeed\\n\"\n",
    "    for data in masslistcopy[1:]:\n",
    "        #data = data.copy() #comment out this line to not have the original list change\n",
    "        percentdif = abs((data[0]-data[1])/data[0])*100\n",
    "        roundedpercentdif = round(percentdif,2)\n",
    "        percentlist.append(percentdif)\n",
    "        data.insert(2,percentdif)\n",
    "        for j in data:\n",
    "            message += str(j)\n",
    "            message +='\\t'\n",
    "        message +='\\n'   \n",
    "    if kwargs.get('last'):\n",
    "        message+= \"\\nAverage percent difference= {}.\\n\\n\".format(avg(percentlist))\n",
    "    with open('test.txt',write_type) as file:\n",
    "        file.write(message)\n",
    "masslist_txt_append(testlist1,'ttor','w', first = True)\n",
    "masslist_txt_append(testlist2,'ttor','a')\n",
    "masslist_txt_append(testlist3,'ttor','a', last = True)"
   ]
  },
  {
   "cell_type": "code",
   "execution_count": null,
   "metadata": {},
   "outputs": [],
   "source": []
  }
 ],
 "metadata": {
  "kernelspec": {
   "display_name": "Python 3",
   "language": "python",
   "name": "python3"
  },
  "language_info": {
   "codemirror_mode": {
    "name": "ipython",
    "version": 3
   },
   "file_extension": ".py",
   "mimetype": "text/x-python",
   "name": "python",
   "nbconvert_exporter": "python",
   "pygments_lexer": "ipython3",
   "version": "3.8.8"
  },
  "metadata": {
   "interpreter": {
    "hash": "082e9a3bcad0a290d0001e938aa60b99250c6c2ef33a923c00b70f9826caf4b7"
   }
  }
 },
 "nbformat": 4,
 "nbformat_minor": 2
}
