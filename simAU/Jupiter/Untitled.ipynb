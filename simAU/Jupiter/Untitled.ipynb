{
 "cells": [
  {
   "cell_type": "code",
   "execution_count": 3,
   "id": "ede5725d",
   "metadata": {},
   "outputs": [],
   "source": [
    "import rebound"
   ]
  },
  {
   "cell_type": "code",
   "execution_count": 2,
   "id": "fca19f31",
   "metadata": {},
   "outputs": [
    {
     "name": "stdout",
     "output_type": "stream",
     "text": [
      "/home/taylor11/anaconda3/bin/python\r\n"
     ]
    }
   ],
   "source": [
    "!which python"
   ]
  },
  {
   "cell_type": "code",
   "execution_count": 5,
   "id": "f823c541",
   "metadata": {},
   "outputs": [],
   "source": [
    "revolutionsOfInnerPlanet = 10000 # The following sets up and runs the simulation, collecting data every setRevFreq revolutions\n",
    "#endTime = 10000 #years of simulation\n",
    "revTime = 0.1**1.5 # time for one revolution of the inner planet at the very beginning at least\n",
    "endTime = revTime * revolutionsOfInnerPlanet\n",
    "simAU_masses = [['inner planet mass', 'outer planet mass','distance']]\n",
    "stepRevFreq = 10 # how often a step should occur in units of revolutions of the inner planet\n",
    "stepFrequency = stepRevFreq * revTime\n",
    "steps = int(revolutionsOfInnerPlanet/stepRevFreq)"
   ]
  },
  {
   "cell_type": "code",
   "execution_count": 2,
   "id": "27ebc425",
   "metadata": {},
   "outputs": [],
   "source": [
    "import numpy as np\n",
    "\n",
    "def massListSorter(path):\n",
    "    allData = []\n",
    "    with open(path+\".txt\") as file:\n",
    "        for i, line in enumerate(file):\n",
    "            if i <= 1:\n",
    "                continue\n",
    "            splitted = line.split()\n",
    "            splitted[-1] = float(splitted[-1])\n",
    "            allData.append(splitted)\n",
    "    lastEntry = [data[3] for data in allData]\n",
    "    placement = [combo.index(i) for i in lastEntry]\n",
    "    fullySorted = [0 for i in range(len(combo))]\n",
    "    #fullySorted = [allData[i] for i in placement]\n",
    "    for i, value in enumerate(placement): \n",
    "        fullySorted[value] = allData[i]\n",
    "    with open(path+\"SORTED.txt\", 'w') as file:\n",
    "        file.write(\"simAU\\n\"+\"Inner Planet Mass\\tOuter Planet Mass\\tPercent Difference\\tDistance\\n\")\n",
    "        for i in fullySorted: \n",
    "            if type(i) != list:\n",
    "                continue\n",
    "            for j in i: \n",
    "                write = str(j)\n",
    "                if j in outerDistances:\n",
    "                    index = outerDistances.index(j)\n",
    "                    write += \"* ({}:{})\".format(Info[index][0],Info[index][1])\n",
    "                file.write(write+'\\t')\n",
    "            file.write('\\n')\n",
    "\n",
    "Info=[]\n",
    "outerDistances = []\n",
    "for i in range(1,11):\n",
    "    for j in range(i+1,i+11):\n",
    "        outerDist = .1*(j/i)**(2/3)\n",
    "        if outerDist in outerDistances:\n",
    "            continue\n",
    "        pre = [i,j,.1, outerDist]\n",
    "        Info.append(pre)\n",
    "        outerDistances.append(outerDist)\n",
    "copy = outerDistances.copy()\n",
    "combo = list(np.linspace(.1, .5, 100)) + copy\n",
    "combo.sort()\n",
    "\n",
    "massListSorter(\"0.1_Earthsept13Batch\")"
   ]
  },
  {
   "cell_type": "code",
   "execution_count": 10,
   "id": "0b2e2fcb",
   "metadata": {},
   "outputs": [
    {
     "name": "stdout",
     "output_type": "stream",
     "text": [
      "/home/taylor11/Downloads/Rebound/ReboundResonancesCOPY/simAU/Jupiter\n"
     ]
    }
   ],
   "source": [
    "import os\n",
    "\n",
    "os.chdir(\"/home/taylor11/Downloads/Rebound/ReboundResonancesCOPY/simAU/Jupiter\")\n",
    "print(os.getcwd())\n",
    "#print(os.listdir())\n",
    "\n",
    "for file in os.listdir():\n",
    "    if \"TTOR_1000\" in file and \".txt\" in file:\n",
    "        os.remove(file)"
   ]
  },
  {
   "cell_type": "code",
   "execution_count": null,
   "id": "5441f53e",
   "metadata": {},
   "outputs": [],
   "source": []
  }
 ],
 "metadata": {
  "kernelspec": {
   "display_name": "Python 3",
   "language": "python",
   "name": "python3"
  },
  "language_info": {
   "codemirror_mode": {
    "name": "ipython",
    "version": 3
   },
   "file_extension": ".py",
   "mimetype": "text/x-python",
   "name": "python",
   "nbconvert_exporter": "python",
   "pygments_lexer": "ipython3",
   "version": "3.8.10"
  }
 },
 "nbformat": 4,
 "nbformat_minor": 5
}
